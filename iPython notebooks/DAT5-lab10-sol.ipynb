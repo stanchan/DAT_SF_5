{
 "metadata": {
  "name": ""
 },
 "nbformat": 3,
 "nbformat_minor": 0,
 "worksheets": [
  {
   "cells": [
    {
     "cell_type": "markdown",
     "metadata": {},
     "source": [
      "# GA Data Science 5 (DAT5) - Lab 10\n",
      "\n",
      "### Text Mining via TF-IDF\n",
      "\n",
      "Rob Hall\n",
      "\n",
      "\n",
      "\n",
      "### Last Time:\n",
      "\n",
      "- #### K-Means Clustering\n",
      "\n",
      "#### Questions?\n",
      "\n",
      "\n",
      "### Today\n",
      "\n",
      "1. Basic text mining via TF-IDF\n",
      "2. MapReduce (not in this notebook)"
     ]
    },
    {
     "cell_type": "heading",
     "level": 1,
     "metadata": {},
     "source": [
      "Introduction to the Vector Space Model (VSM)"
     ]
    },
    {
     "cell_type": "markdown",
     "metadata": {},
     "source": [
      "In information retrieval or text mining, the term frequency \u2013 inverse document frequency also called tf-idf, is a well know method to evaluate how important is a word in a document. Tf-idf are also a very interesting way to convert the textual representation of information into a Vector Space Model (VSM), or into sparse features. We\u2019ll discuss more about it later. First, let\u2019s try to understand what tf-idf and the VSM are."
     ]
    },
    {
     "cell_type": "heading",
     "level": 2,
     "metadata": {},
     "source": [
      "Going to the Vector Space"
     ]
    },
    {
     "cell_type": "markdown",
     "metadata": {},
     "source": [
      "The first step in modeling the document into a vector space is to create a dictionary of terms present in documents. To do that, you can simple select all terms from the document and convert it to a dimension in the vector space, but we know that there are some kind of words (stop words) that are present in almost all documents, and what we\u2019re doing is extracting important features from documents, features do identify them among other similar documents, so using terms like \u201cthe, is, at, on\u201d, etc.. isn\u2019t going to help us, so in the information extraction, we\u2019ll just ignore them.\n",
      "\n",
      "Let\u2019s take the documents below to define our (extremely basic) document space:"
     ]
    },
    {
     "cell_type": "raw",
     "metadata": {},
     "source": [
      "Train Document Set:\n",
      "\n",
      "d1: The sky is blue.\n",
      "d2: The sun is bright.\n",
      "\n",
      "Test Document Set:\n",
      "\n",
      "d3: The sun in the sky is bright.\n",
      "d4: We can see the shining sun, the bright sun."
     ]
    },
    {
     "cell_type": "markdown",
     "metadata": {},
     "source": [
      "Now, what we have to do is to create a index vocabulary (dictionary) of the words of the train document set, using the documents d1 and d2 from the document set, we\u2019ll have the following index vocabulary denoted as {E}(t) where the t is the term:"
     ]
    },
    {
     "cell_type": "markdown",
     "metadata": {},
     "source": [
      "<img src=\"files/assets/1-Eoft.png\" />"
     ]
    },
    {
     "cell_type": "markdown",
     "metadata": {},
     "source": [
      "Note that the terms like \u201cis\u201d and \u201cthe\u201d were ignored as cited before. Now that we have an index vocabulary, we can convert the test document set into a vector space where each term of the vector is indexed as our index vocabulary, so the first term of the vector represents the \u201cblue\u201d term of our vocabulary, the second represents \u201csun\u201d and so on. Now, we\u2019re going to use the term-frequency to represent each term in our vector space; the term-frequency is nothing more than a measure of how many times the terms present in our vocabulary {E}(t) are present in the documents d3 or d4, we define the term-frequency as a couting function:"
     ]
    },
    {
     "cell_type": "markdown",
     "metadata": {},
     "source": [
      "<img src=\"files/assets/2.png\" />"
     ]
    },
    {
     "cell_type": "markdown",
     "metadata": {},
     "source": [
      "where the {fr}(x, t) is a simple function defined as:"
     ]
    },
    {
     "cell_type": "markdown",
     "metadata": {},
     "source": [
      "<img src=\"files/assets/3.png\" />"
     ]
    },
    {
     "cell_type": "markdown",
     "metadata": {},
     "source": [
      "So, what the tf(t,d) returns is how many times is the term t is present in the document d. An example of this, could be tf(``sun'', d4) = 2 since we have only two occurrences of the term \u201csun\u201d in the document d4. Now you understood how the term-frequency works, we can go on into the creation of the document vector, which is represented by:"
     ]
    },
    {
     "cell_type": "markdown",
     "metadata": {},
     "source": [
      "<img src=\"files/assets/4.png\" />"
     ]
    },
    {
     "cell_type": "markdown",
     "metadata": {},
     "source": [
      "Each dimension of the document vector is represented by the term of the vocabulary, for example, the {tf}(t_1,d_2) represents the frequency-term of the term 1 or t_1 (which is our \u201cblue\u201d term of the vocabulary) in the document d_2.\n",
      "\n",
      "Let\u2019s now show a concrete example of how the documents d_3 and d_4 are represented as vectors:"
     ]
    },
    {
     "cell_type": "markdown",
     "metadata": {},
     "source": [
      "<img src=\"files/assets/5.png\" />"
     ]
    },
    {
     "cell_type": "markdown",
     "metadata": {},
     "source": [
      "Which evaluates to:"
     ]
    },
    {
     "cell_type": "markdown",
     "metadata": {},
     "source": [
      "<img src=\"files/assets/6.png\" />"
     ]
    },
    {
     "cell_type": "markdown",
     "metadata": {},
     "source": [
      "As you can see, since the documents d_3 and d_4 are:"
     ]
    },
    {
     "cell_type": "raw",
     "metadata": {},
     "source": [
      "d3: The sun in the sky is bright.\n",
      "d4: We can see the shining sun, the bright sun."
     ]
    },
    {
     "cell_type": "markdown",
     "metadata": {},
     "source": [
      "The resulting vector v_{d_3} shows that we have, in order, 0 occurrences of the term \u201cblue\u201d, 1 occurrence of the term \u201csun\u201d, and so on. In the v_{d_3}, we have 0 occurences of the term \u201cblue\u201d, 2 occurrences of the term \u201csun\u201d, etc.\n",
      "\n",
      "But wait, since we have a collection of documents, now represented by vectors, we can represent them as a matrix with |D| \\times F shape, where |D| is the cardinality of the document space, or how many documents we have and the F is the number of features, in our case represented by the vocabulary size. An example of the matrix representation of the vectors described above is:"
     ]
    },
    {
     "cell_type": "markdown",
     "metadata": {},
     "source": [
      "<img src=\"files/assets/7.png\" />"
     ]
    },
    {
     "cell_type": "markdown",
     "metadata": {},
     "source": [
      "As you may have noted, these matrices representing the term frequencies tend to be very sparse (with majority of terms zeroed), and that\u2019s why you\u2019ll see a common representation of these matrix as sparse matrices."
     ]
    },
    {
     "cell_type": "heading",
     "level": 2,
     "metadata": {},
     "source": [
      "Now, in Python"
     ]
    },
    {
     "cell_type": "code",
     "collapsed": false,
     "input": [
      "from sklearn.feature_extraction.text import CountVectorizer"
     ],
     "language": "python",
     "metadata": {},
     "outputs": [],
     "prompt_number": 12
    },
    {
     "cell_type": "code",
     "collapsed": false,
     "input": [
      "vectorizer = CountVectorizer(stop_words=\"english\")"
     ],
     "language": "python",
     "metadata": {},
     "outputs": [],
     "prompt_number": 24
    },
    {
     "cell_type": "code",
     "collapsed": false,
     "input": [
      "train_set = (\"The sky is blue.\",\n",
      "             \"The sun is bright.\")\n",
      "test_set = (\"The sun in the sky is bright.\",\n",
      "            \"We can see the shining sun, the bright sun.\")"
     ],
     "language": "python",
     "metadata": {},
     "outputs": [],
     "prompt_number": 33
    },
    {
     "cell_type": "code",
     "collapsed": false,
     "input": [
      "print vectorizer"
     ],
     "language": "python",
     "metadata": {},
     "outputs": [
      {
       "output_type": "stream",
       "stream": "stdout",
       "text": [
        "CountVectorizer(analyzer=word, binary=False, charset=None, charset_error=None,\n",
        "        decode_error=strict, dtype=<type 'numpy.int64'>, encoding=utf-8,\n",
        "        input=content, lowercase=True, max_df=1.0, max_features=None,\n",
        "        min_df=1, ngram_range=(1, 1), preprocessor=None,\n",
        "        stop_words=english, strip_accents=None,\n",
        "        token_pattern=(?u)\\b\\w\\w+\\b, tokenizer=None, vocabulary=None)\n"
       ]
      }
     ],
     "prompt_number": 34
    },
    {
     "cell_type": "code",
     "collapsed": false,
     "input": [
      "vectorizer.fit_transform(train_set)\n",
      "print vectorizer.vocabulary_"
     ],
     "language": "python",
     "metadata": {},
     "outputs": [
      {
       "output_type": "stream",
       "stream": "stdout",
       "text": [
        "{u'blue': 0, u'sun': 3, u'bright': 1, u'sky': 2}\n"
       ]
      }
     ],
     "prompt_number": 35
    },
    {
     "cell_type": "code",
     "collapsed": false,
     "input": [
      "sparse_matrix = vectorizer.transform(test_set)\n",
      "\n",
      "print vectorizer.vocabulary_"
     ],
     "language": "python",
     "metadata": {},
     "outputs": [
      {
       "output_type": "stream",
       "stream": "stdout",
       "text": [
        "{u'blue': 0, u'sun': 3, u'bright': 1, u'sky': 2}\n"
       ]
      }
     ],
     "prompt_number": 39
    },
    {
     "cell_type": "code",
     "collapsed": false,
     "input": [
      "print sparse_matrix"
     ],
     "language": "python",
     "metadata": {},
     "outputs": [
      {
       "output_type": "stream",
       "stream": "stdout",
       "text": [
        "  (0, 1)\t1\n",
        "  (0, 2)\t1\n",
        "  (0, 3)\t1\n",
        "  (1, 1)\t1\n",
        "  (1, 3)\t2\n"
       ]
      }
     ],
     "prompt_number": 40
    },
    {
     "cell_type": "markdown",
     "metadata": {},
     "source": [
      "Note that the sparse matrix created called smatrix is a Scipy sparse matrix with elements stored in a Coordinate format. But we can convert it into a dense format:"
     ]
    },
    {
     "cell_type": "code",
     "collapsed": false,
     "input": [
      "sparse_matrix.todense()"
     ],
     "language": "python",
     "metadata": {},
     "outputs": [
      {
       "metadata": {},
       "output_type": "pyout",
       "prompt_number": 36,
       "text": [
        "matrix([[0, 1, 1, 1],\n",
        "        [0, 1, 0, 2]])"
       ]
      }
     ],
     "prompt_number": 36
    },
    {
     "cell_type": "code",
     "collapsed": false,
     "input": [],
     "language": "python",
     "metadata": {},
     "outputs": []
    }
   ],
   "metadata": {}
  }
 ]
}