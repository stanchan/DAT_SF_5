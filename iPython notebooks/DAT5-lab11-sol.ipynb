{
 "metadata": {
  "name": ""
 },
 "nbformat": 3,
 "nbformat_minor": 0,
 "worksheets": [
  {
   "cells": [
    {
     "cell_type": "markdown",
     "metadata": {},
     "source": [
      "# GA Data Science 5 (DAT5) - Lab 11\n",
      "\n",
      "### Recommendation Systems\n",
      "\n",
      "Francesco Mosconi\n",
      "\n",
      "\n",
      "### Last Time:\n",
      "\n",
      "- #### Text Mining via TF-IDF\n",
      "\n",
      "#### Questions?\n",
      "\n",
      "\n",
      "### Today\n",
      "\n",
      "1. Simple similarity based recommendation system\n",
      "2. Recsys\n",
      "3. Optional (yhat)"
     ]
    },
    {
     "cell_type": "markdown",
     "metadata": {},
     "source": [
      "## Similarity based Recommendation System: Beers"
     ]
    },
    {
     "cell_type": "markdown",
     "metadata": {},
     "source": [
      "Usual imports (numpy, pandas)"
     ]
    },
    {
     "cell_type": "code",
     "collapsed": false,
     "input": [
      "import pandas as pd\n",
      "import numpy as np"
     ],
     "language": "python",
     "metadata": {},
     "outputs": [],
     "prompt_number": 107
    },
    {
     "cell_type": "markdown",
     "metadata": {},
     "source": [
      "First of all let's get the data"
     ]
    },
    {
     "cell_type": "code",
     "collapsed": false,
     "input": [
      "! curl -O https://s3.amazonaws.com/demo-datasets/beer_reviews.tar.gz"
     ],
     "language": "python",
     "metadata": {},
     "outputs": [
      {
       "output_type": "stream",
       "stream": "stdout",
       "text": [
        "  % Total    % Received % Xferd  Average Speed   Time    Time     Time  Current\r\n",
        "                                 Dload  Upload   Total   Spent    Left  Speed\r\n",
        "\r",
        "  0     0    0     0    0     0      0      0 --:--:-- --:--:-- --:--:--     0"
       ]
      },
      {
       "output_type": "stream",
       "stream": "stdout",
       "text": [
        "\r",
        "  0     0    0     0    0     0      0      0 --:--:-- --:--:-- --:--:--     0"
       ]
      },
      {
       "output_type": "stream",
       "stream": "stdout",
       "text": [
        "\r",
        "  0     0    0     0    0     0      0      0 --:--:--  0:00:01 --:--:--     0"
       ]
      },
      {
       "output_type": "stream",
       "stream": "stdout",
       "text": [
        "\r",
        "  0 27.3M    0  175k    0     0  70029      0  0:06:49  0:00:02  0:06:47 70008"
       ]
      },
      {
       "output_type": "stream",
       "stream": "stdout",
       "text": [
        "\r",
        "  1 27.3M    1  456k    0     0   127k      0  0:03:40  0:00:03  0:03:37  127k"
       ]
      },
      {
       "output_type": "stream",
       "stream": "stdout",
       "text": [
        "\r",
        "  3 27.3M    3  948k    0     0   207k      0  0:02:14  0:00:04  0:02:10  207k"
       ]
      },
      {
       "output_type": "stream",
       "stream": "stdout",
       "text": [
        "\r",
        "  5 27.3M    5 1423k    0     0   255k      0  0:01:49  0:00:05  0:01:44  308k"
       ]
      },
      {
       "output_type": "stream",
       "stream": "stdout",
       "text": [
        "\r",
        "  6 27.3M    6 1854k    0     0   267k      0  0:01:44  0:00:06  0:01:38  351k"
       ]
      },
      {
       "output_type": "stream",
       "stream": "stdout",
       "text": [
        "\r",
        "  8 27.3M    8 2381k    0     0   314k      0  0:01:29  0:00:07  0:01:22  441k"
       ]
      },
      {
       "output_type": "stream",
       "stream": "stdout",
       "text": [
        "\r",
        " 10 27.3M   10 2847k    0     0   330k      0  0:01:24  0:00:08  0:01:16  474k"
       ]
      },
      {
       "output_type": "stream",
       "stream": "stdout",
       "text": [
        "\r",
        " 11 27.3M   11 3321k    0     0   347k      0  0:01:20  0:00:09  0:01:11  474k"
       ]
      },
      {
       "output_type": "stream",
       "stream": "stdout",
       "text": [
        "\r",
        " 12 27.3M   12 3620k    0     0   339k      0  0:01:22  0:00:10  0:01:12  431k"
       ]
      },
      {
       "output_type": "stream",
       "stream": "stdout",
       "text": [
        "\r",
        " 14 27.3M   14 4192k    0     0   355k      0  0:01:18  0:00:11  0:01:07  481k"
       ]
      },
      {
       "output_type": "stream",
       "stream": "stdout",
       "text": [
        "\r",
        " 16 27.3M   16 4754k    0     0   378k      0  0:01:14  0:00:12  0:01:02  474k"
       ]
      },
      {
       "output_type": "stream",
       "stream": "stdout",
       "text": [
        "\r",
        " 18 27.3M   18 5079k    0     0   373k      0  0:01:14  0:00:13  0:01:01  450k"
       ]
      },
      {
       "output_type": "stream",
       "stream": "stdout",
       "text": [
        "\r",
        " 20 27.3M   20 5703k    0     0   391k      0  0:01:11  0:00:14  0:00:57  476k"
       ]
      },
      {
       "output_type": "stream",
       "stream": "stdout",
       "text": [
        "\r",
        " 21 27.3M   21 6072k    0     0   389k      0  0:01:12  0:00:15  0:00:57  494k"
       ]
      },
      {
       "output_type": "stream",
       "stream": "stdout",
       "text": [
        "\r",
        " 23 27.3M   23 6600k    0     0   395k      0  0:01:10  0:00:16  0:00:54  493k"
       ]
      },
      {
       "output_type": "stream",
       "stream": "stdout",
       "text": [
        "\r",
        " 25 27.3M   25 7127k    0     0   405k      0  0:01:09  0:00:17  0:00:52  472k"
       ]
      },
      {
       "output_type": "stream",
       "stream": "stdout",
       "text": [
        "\r",
        " 27 27.3M   27 7593k    0     0   409k      0  0:01:08  0:00:18  0:00:50  504k"
       ]
      },
      {
       "output_type": "stream",
       "stream": "stdout",
       "text": [
        "\r",
        " 28 27.3M   28 8076k    0     0   412k      0  0:01:07  0:00:19  0:00:48  474k"
       ]
      },
      {
       "output_type": "stream",
       "stream": "stdout",
       "text": [
        "\r",
        " 30 27.3M   30 8551k    0     0   415k      0  0:01:07  0:00:20  0:00:47  499k"
       ]
      },
      {
       "output_type": "stream",
       "stream": "stdout",
       "text": [
        "\r",
        " 31 27.3M   31 8946k    0     0   413k      0  0:01:07  0:00:21  0:00:46  472k"
       ]
      },
      {
       "output_type": "stream",
       "stream": "stdout",
       "text": [
        "\r",
        " 33 27.3M   33 9509k    0     0   421k      0  0:01:06  0:00:22  0:00:44  477k"
       ]
      },
      {
       "output_type": "stream",
       "stream": "stdout",
       "text": [
        "\r",
        " 35 27.3M   35 9975k    0     0   423k      0  0:01:06  0:00:23  0:00:43  476k"
       ]
      },
      {
       "output_type": "stream",
       "stream": "stdout",
       "text": [
        "\r",
        " 36 27.3M   36 10.0M    0     0   420k      0  0:01:06  0:00:24  0:00:42  451k"
       ]
      },
      {
       "output_type": "stream",
       "stream": "stdout",
       "text": [
        "\r",
        " 38 27.3M   38 10.6M    0     0   425k      0  0:01:05  0:00:25  0:00:40  465k"
       ]
      },
      {
       "output_type": "stream",
       "stream": "stdout",
       "text": [
        "\r",
        " 40 27.3M   40 11.0M    0     0   426k      0  0:01:05  0:00:26  0:00:39  485k"
       ]
      },
      {
       "output_type": "stream",
       "stream": "stdout",
       "text": [
        "\r",
        " 41 27.3M   41 11.4M    0     0   426k      0  0:01:05  0:00:27  0:00:38  449k"
       ]
      },
      {
       "output_type": "stream",
       "stream": "stdout",
       "text": [
        "\r",
        " 43 27.3M   43 11.9M    0     0   427k      0  0:01:05  0:00:28  0:00:37  450k"
       ]
      },
      {
       "output_type": "stream",
       "stream": "stdout",
       "text": [
        "\r",
        " 44 27.3M   44 12.2M    0     0   425k      0  0:01:05  0:00:29  0:00:36  451k"
       ]
      },
      {
       "output_type": "stream",
       "stream": "stdout",
       "text": [
        "\r",
        " 46 27.3M   46 12.8M    0     0   430k      0  0:01:05  0:00:30  0:00:35  453k"
       ]
      },
      {
       "output_type": "stream",
       "stream": "stdout",
       "text": [
        "\r",
        " 48 27.3M   48 13.1M    0     0   426k      0  0:01:05  0:00:31  0:00:34  424k"
       ]
      },
      {
       "output_type": "stream",
       "stream": "stdout",
       "text": [
        "\r",
        " 49 27.3M   49 13.5M    0     0   426k      0  0:01:05  0:00:32  0:00:33  424k"
       ]
      },
      {
       "output_type": "stream",
       "stream": "stdout",
       "text": [
        "\r",
        " 50 27.3M   50 13.9M    0     0   421k      0  0:01:06  0:00:33  0:00:33  385k"
       ]
      },
      {
       "output_type": "stream",
       "stream": "stdout",
       "text": [
        "\r",
        " 52 27.3M   52 14.3M    0     0   423k      0  0:01:06  0:00:34  0:00:32  412k"
       ]
      },
      {
       "output_type": "stream",
       "stream": "stdout",
       "text": [
        "\r",
        " 53 27.3M   53 14.5M    0     0   419k      0  0:01:06  0:00:35  0:00:31  352k"
       ]
      },
      {
       "output_type": "stream",
       "stream": "stdout",
       "text": [
        "\r",
        " 53 27.3M   53 14.7M    0     0   412k      0  0:01:07  0:00:36  0:00:31  326k"
       ]
      },
      {
       "output_type": "stream",
       "stream": "stdout",
       "text": [
        "\r",
        " 55 27.3M   55 15.1M    0     0   413k      0  0:01:07  0:00:37  0:00:30  328k"
       ]
      },
      {
       "output_type": "stream",
       "stream": "stdout",
       "text": [
        "\r",
        " 57 27.3M   57 15.6M    0     0   414k      0  0:01:07  0:00:38  0:00:29  367k"
       ]
      },
      {
       "output_type": "stream",
       "stream": "stdout",
       "text": [
        "\r",
        " 58 27.3M   58 16.0M    0     0   416k      0  0:01:07  0:00:39  0:00:28  365k"
       ]
      },
      {
       "output_type": "stream",
       "stream": "stdout",
       "text": [
        "\r",
        " 59 27.3M   59 16.4M    0     0   414k      0  0:01:07  0:00:40  0:00:27  380k"
       ]
      },
      {
       "output_type": "stream",
       "stream": "stdout",
       "text": [
        "\r",
        " 61 27.3M   61 16.8M    0     0   416k      0  0:01:07  0:00:41  0:00:26  439k"
       ]
      },
      {
       "output_type": "stream",
       "stream": "stdout",
       "text": [
        "\r",
        " 63 27.3M   63 17.3M    0     0   416k      0  0:01:07  0:00:42  0:00:25  444k"
       ]
      },
      {
       "output_type": "stream",
       "stream": "stdout",
       "text": [
        "\r",
        " 64 27.3M   64 17.7M    0     0   417k      0  0:01:07  0:00:43  0:00:24  437k"
       ]
      },
      {
       "output_type": "stream",
       "stream": "stdout",
       "text": [
        "\r",
        " 66 27.3M   66 18.2M    0     0   418k      0  0:01:06  0:00:44  0:00:22  436k"
       ]
      },
      {
       "output_type": "stream",
       "stream": "stdout",
       "text": [
        "\r",
        " 68 27.3M   68 18.6M    0     0   419k      0  0:01:06  0:00:45  0:00:21  464k"
       ]
      },
      {
       "output_type": "stream",
       "stream": "stdout",
       "text": [
        "\r",
        " 69 27.3M   69 19.1M    0     0   421k      0  0:01:06  0:00:46  0:00:20  462k"
       ]
      },
      {
       "output_type": "stream",
       "stream": "stdout",
       "text": [
        "\r",
        " 71 27.3M   71 19.5M    0     0   421k      0  0:01:06  0:00:47  0:00:19  465k"
       ]
      },
      {
       "output_type": "stream",
       "stream": "stdout",
       "text": [
        "\r",
        " 73 27.3M   73 20.0M    0     0   414k      0  0:01:07  0:00:49  0:00:18  392k"
       ]
      },
      {
       "output_type": "stream",
       "stream": "stdout",
       "text": [
        "\r",
        " 73 27.3M   73 20.0M    0     0   414k      0  0:01:07  0:00:49  0:00:18  372k"
       ]
      },
      {
       "output_type": "stream",
       "stream": "stdout",
       "text": [
        "\r",
        " 75 27.3M   75 20.5M    0     0   415k      0  0:01:07  0:00:50  0:00:17  378k"
       ]
      },
      {
       "output_type": "stream",
       "stream": "stdout",
       "text": [
        "\r",
        " 75 27.3M   75 20.7M    0     0   411k      0  0:01:08  0:00:51  0:00:17  321k"
       ]
      },
      {
       "output_type": "stream",
       "stream": "stdout",
       "text": [
        "\r",
        " 76 27.3M   76 20.9M    0     0   407k      0  0:01:08  0:00:52  0:00:16  267k"
       ]
      },
      {
       "output_type": "stream",
       "stream": "stdout",
       "text": [
        "\r",
        " 77 27.3M   77 21.1M    0     0   404k      0  0:01:09  0:00:53  0:00:16  278k"
       ]
      },
      {
       "output_type": "stream",
       "stream": "stdout",
       "text": [
        "\r",
        " 78 27.3M   78 21.5M    0     0   404k      0  0:01:09  0:00:54  0:00:15  311k"
       ]
      },
      {
       "output_type": "stream",
       "stream": "stdout",
       "text": [
        "\r",
        " 79 27.3M   79 21.8M    0     0   402k      0  0:01:09  0:00:55  0:00:14  271k"
       ]
      },
      {
       "output_type": "stream",
       "stream": "stdout",
       "text": [
        "\r",
        " 80 27.3M   80 22.0M    0     0   398k      0  0:01:10  0:00:56  0:00:14  268k"
       ]
      },
      {
       "output_type": "stream",
       "stream": "stdout",
       "text": [
        "\r",
        " 81 27.3M   81 22.3M    0     0   394k      0  0:01:11  0:00:57  0:00:14  273k"
       ]
      },
      {
       "output_type": "stream",
       "stream": "stdout",
       "text": [
        "\r",
        " 82 27.3M   82 22.5M    0     0   394k      0  0:01:11  0:00:58  0:00:13  291k"
       ]
      },
      {
       "output_type": "stream",
       "stream": "stdout",
       "text": [
        "\r",
        " 82 27.3M   82 22.6M    0     0   389k      0  0:01:12  0:00:59  0:00:13  223k"
       ]
      },
      {
       "output_type": "stream",
       "stream": "stdout",
       "text": [
        "\r",
        " 83 27.3M   83 22.7M    0     0   384k      0  0:01:12  0:01:00  0:00:12  184k"
       ]
      },
      {
       "output_type": "stream",
       "stream": "stdout",
       "text": [
        "\r",
        " 83 27.3M   83 22.8M    0     0   380k      0  0:01:13  0:01:01  0:00:12  173k"
       ]
      },
      {
       "output_type": "stream",
       "stream": "stdout",
       "text": [
        "\r",
        " 84 27.3M   84 23.1M    0     0   378k      0  0:01:14  0:01:02  0:00:12  171k"
       ]
      },
      {
       "output_type": "stream",
       "stream": "stdout",
       "text": [
        "\r",
        " 85 27.3M   85 23.2M    0     0   374k      0  0:01:14  0:01:03  0:00:11  144k"
       ]
      },
      {
       "output_type": "stream",
       "stream": "stdout",
       "text": [
        "\r",
        " 85 27.3M   85 23.5M    0     0   372k      0  0:01:15  0:01:04  0:00:11  173k"
       ]
      },
      {
       "output_type": "stream",
       "stream": "stdout",
       "text": [
        "\r",
        " 86 27.3M   86 23.7M    0     0   370k      0  0:01:15  0:01:05  0:00:10  194k"
       ]
      },
      {
       "output_type": "stream",
       "stream": "stdout",
       "text": [
        "\r",
        " 87 27.3M   87 23.8M    0     0   367k      0  0:01:16  0:01:06  0:00:10  205k"
       ]
      },
      {
       "output_type": "stream",
       "stream": "stdout",
       "text": [
        "\r",
        " 87 27.3M   87 24.0M    0     0   363k      0  0:01:17  0:01:07  0:00:10  183k"
       ]
      },
      {
       "output_type": "stream",
       "stream": "stdout",
       "text": [
        "\r",
        " 88 27.3M   88 24.2M    0     0   361k      0  0:01:17  0:01:08  0:00:09  195k"
       ]
      },
      {
       "output_type": "stream",
       "stream": "stdout",
       "text": [
        "\r",
        " 89 27.3M   89 24.4M    0     0   359k      0  0:01:17  0:01:09  0:00:08  191k"
       ]
      },
      {
       "output_type": "stream",
       "stream": "stdout",
       "text": [
        "\r",
        " 90 27.3M   90 24.7M    0     0   359k      0  0:01:17  0:01:10  0:00:07  216k"
       ]
      },
      {
       "output_type": "stream",
       "stream": "stdout",
       "text": [
        "\r",
        " 90 27.3M   90 24.8M    0     0   354k      0  0:01:18  0:01:11  0:00:07  191k"
       ]
      },
      {
       "output_type": "stream",
       "stream": "stdout",
       "text": [
        "\r",
        " 90 27.3M   90 24.8M    0     0   350k      0  0:01:20  0:01:12  0:00:08  169k"
       ]
      },
      {
       "output_type": "stream",
       "stream": "stdout",
       "text": [
        "\r",
        " 91 27.3M   91 24.9M    0     0   347k      0  0:01:20  0:01:13  0:00:07  157k"
       ]
      },
      {
       "output_type": "stream",
       "stream": "stdout",
       "text": [
        "\r",
        " 91 27.3M   91 25.1M    0     0   345k      0  0:01:21  0:01:14  0:00:07  149k"
       ]
      },
      {
       "output_type": "stream",
       "stream": "stdout",
       "text": [
        "\r",
        " 92 27.3M   92 25.3M    0     0   343k      0  0:01:21  0:01:15  0:00:06  117k"
       ]
      },
      {
       "output_type": "stream",
       "stream": "stdout",
       "text": [
        "\r",
        " 93 27.3M   93 25.5M    0     0   341k      0  0:01:22  0:01:16  0:00:06  152k"
       ]
      },
      {
       "output_type": "stream",
       "stream": "stdout",
       "text": [
        "\r",
        " 95 27.3M   95 26.0M    0     0   343k      0  0:01:21  0:01:17  0:00:04  243k"
       ]
      },
      {
       "output_type": "stream",
       "stream": "stdout",
       "text": [
        "\r",
        " 96 27.3M   96 26.4M    0     0   344k      0  0:01:21  0:01:18  0:00:03  300k"
       ]
      },
      {
       "output_type": "stream",
       "stream": "stdout",
       "text": [
        "\r",
        " 98 27.3M   98 26.8M    0     0   346k      0  0:01:20  0:01:19  0:00:01  355k"
       ]
      },
      {
       "output_type": "stream",
       "stream": "stdout",
       "text": [
        "\r",
        " 99 27.3M   99 27.2M    0     0   346k      0  0:01:20  0:01:20 --:--:--  395k"
       ]
      },
      {
       "output_type": "stream",
       "stream": "stdout",
       "text": [
        "\r",
        "100 27.3M  100 27.3M    0     0   346k      0  0:01:20  0:01:20 --:--:--  435k\r\n"
       ]
      }
     ],
     "prompt_number": 112
    },
    {
     "cell_type": "code",
     "collapsed": false,
     "input": [
      "! mv 'beer_reviews.tar.gz' data/"
     ],
     "language": "python",
     "metadata": {},
     "outputs": [],
     "prompt_number": 113
    },
    {
     "cell_type": "code",
     "collapsed": false,
     "input": [
      "!ls data"
     ],
     "language": "python",
     "metadata": {},
     "outputs": [
      {
       "output_type": "stream",
       "stream": "stdout",
       "text": [
        "beer_reviews.tar.gz houses_norm.csv     \u001b[34mmovielens\u001b[m\u001b[m\r\n",
        "enron.db            housing-data.csv    titanic-train.csv\r\n",
        "houses.csv          iris_data.csv\r\n"
       ]
      }
     ],
     "prompt_number": 114
    },
    {
     "cell_type": "markdown",
     "metadata": {},
     "source": [
      "Import data in pandas dataframe"
     ]
    },
    {
     "cell_type": "code",
     "collapsed": false,
     "input": [
      "df = pd.read_csv(\"data/beer_reviews.tar.gz\", compression='gzip')"
     ],
     "language": "python",
     "metadata": {},
     "outputs": [],
     "prompt_number": 116
    },
    {
     "cell_type": "markdown",
     "metadata": {},
     "source": [
      "Let's look at the data"
     ]
    },
    {
     "cell_type": "code",
     "collapsed": false,
     "input": [
      "df.head()"
     ],
     "language": "python",
     "metadata": {},
     "outputs": [
      {
       "html": [
        "<div style=\"max-height:1000px;max-width:1500px;overflow:auto;\">\n",
        "<table border=\"1\" class=\"dataframe\">\n",
        "  <thead>\n",
        "    <tr style=\"text-align: right;\">\n",
        "      <th></th>\n",
        "      <th>beer_reviews/</th>\n",
        "      <th>brewery_name</th>\n",
        "      <th>review_time</th>\n",
        "      <th>review_overall</th>\n",
        "      <th>review_aroma</th>\n",
        "      <th>review_appearance</th>\n",
        "      <th>review_profilename</th>\n",
        "      <th>beer_style</th>\n",
        "      <th>review_palate</th>\n",
        "      <th>review_taste</th>\n",
        "      <th>beer_name</th>\n",
        "      <th>beer_abv</th>\n",
        "      <th>beer_beerid</th>\n",
        "    </tr>\n",
        "  </thead>\n",
        "  <tbody>\n",
        "    <tr>\n",
        "      <th>0</th>\n",
        "      <td> 10325</td>\n",
        "      <td>         Vecchio Birraio</td>\n",
        "      <td> 1234817823</td>\n",
        "      <td> 1.5</td>\n",
        "      <td> 2.0</td>\n",
        "      <td> 2.5</td>\n",
        "      <td>        stcules</td>\n",
        "      <td>                     Hefeweizen</td>\n",
        "      <td> 1.5</td>\n",
        "      <td> 1.5</td>\n",
        "      <td>           Sausa Weizen</td>\n",
        "      <td> 5.0</td>\n",
        "      <td> 47986</td>\n",
        "    </tr>\n",
        "    <tr>\n",
        "      <th>1</th>\n",
        "      <td> 10325</td>\n",
        "      <td>         Vecchio Birraio</td>\n",
        "      <td> 1235915097</td>\n",
        "      <td> 3.0</td>\n",
        "      <td> 2.5</td>\n",
        "      <td> 3.0</td>\n",
        "      <td>        stcules</td>\n",
        "      <td>             English Strong Ale</td>\n",
        "      <td> 3.0</td>\n",
        "      <td> 3.0</td>\n",
        "      <td>               Red Moon</td>\n",
        "      <td> 6.2</td>\n",
        "      <td> 48213</td>\n",
        "    </tr>\n",
        "    <tr>\n",
        "      <th>2</th>\n",
        "      <td> 10325</td>\n",
        "      <td>         Vecchio Birraio</td>\n",
        "      <td> 1235916604</td>\n",
        "      <td> 3.0</td>\n",
        "      <td> 2.5</td>\n",
        "      <td> 3.0</td>\n",
        "      <td>        stcules</td>\n",
        "      <td>         Foreign / Export Stout</td>\n",
        "      <td> 3.0</td>\n",
        "      <td> 3.0</td>\n",
        "      <td> Black Horse Black Beer</td>\n",
        "      <td> 6.5</td>\n",
        "      <td> 48215</td>\n",
        "    </tr>\n",
        "    <tr>\n",
        "      <th>3</th>\n",
        "      <td> 10325</td>\n",
        "      <td>         Vecchio Birraio</td>\n",
        "      <td> 1234725145</td>\n",
        "      <td> 3.0</td>\n",
        "      <td> 3.0</td>\n",
        "      <td> 3.5</td>\n",
        "      <td>        stcules</td>\n",
        "      <td>                German Pilsener</td>\n",
        "      <td> 2.5</td>\n",
        "      <td> 3.0</td>\n",
        "      <td>             Sausa Pils</td>\n",
        "      <td> 5.0</td>\n",
        "      <td> 47969</td>\n",
        "    </tr>\n",
        "    <tr>\n",
        "      <th>4</th>\n",
        "      <td>  1075</td>\n",
        "      <td> Caldera Brewing Company</td>\n",
        "      <td> 1293735206</td>\n",
        "      <td> 4.0</td>\n",
        "      <td> 4.5</td>\n",
        "      <td> 4.0</td>\n",
        "      <td> johnmichaelsen</td>\n",
        "      <td> American Double / Imperial IPA</td>\n",
        "      <td> 4.0</td>\n",
        "      <td> 4.5</td>\n",
        "      <td>          Cauldron DIPA</td>\n",
        "      <td> 7.7</td>\n",
        "      <td> 64883</td>\n",
        "    </tr>\n",
        "  </tbody>\n",
        "</table>\n",
        "<p>5 rows \u00d7 13 columns</p>\n",
        "</div>"
       ],
       "metadata": {},
       "output_type": "pyout",
       "prompt_number": 117,
       "text": [
        "  beer_reviews/             brewery_name  review_time  review_overall  \\\n",
        "0         10325          Vecchio Birraio   1234817823             1.5   \n",
        "1         10325          Vecchio Birraio   1235915097             3.0   \n",
        "2         10325          Vecchio Birraio   1235916604             3.0   \n",
        "3         10325          Vecchio Birraio   1234725145             3.0   \n",
        "4          1075  Caldera Brewing Company   1293735206             4.0   \n",
        "\n",
        "   review_aroma  review_appearance review_profilename  \\\n",
        "0           2.0                2.5            stcules   \n",
        "1           2.5                3.0            stcules   \n",
        "2           2.5                3.0            stcules   \n",
        "3           3.0                3.5            stcules   \n",
        "4           4.5                4.0     johnmichaelsen   \n",
        "\n",
        "                       beer_style  review_palate  review_taste  \\\n",
        "0                      Hefeweizen            1.5           1.5   \n",
        "1              English Strong Ale            3.0           3.0   \n",
        "2          Foreign / Export Stout            3.0           3.0   \n",
        "3                 German Pilsener            2.5           3.0   \n",
        "4  American Double / Imperial IPA            4.0           4.5   \n",
        "\n",
        "                beer_name  beer_abv  beer_beerid  \n",
        "0            Sausa Weizen       5.0        47986  \n",
        "1                Red Moon       6.2        48213  \n",
        "2  Black Horse Black Beer       6.5        48215  \n",
        "3              Sausa Pils       5.0        47969  \n",
        "4           Cauldron DIPA       7.7        64883  \n",
        "\n",
        "[5 rows x 13 columns]"
       ]
      }
     ],
     "prompt_number": 117
    },
    {
     "cell_type": "markdown",
     "metadata": {},
     "source": [
      "Let's restrict this to the top 250 beers. Use the value_counts() method"
     ]
    },
    {
     "cell_type": "code",
     "collapsed": false,
     "input": [
      "n = 250\n",
      "top_n = df.beer_name.value_counts().index[:n]\n",
      "df = df[df.beer_name.isin(top_n)]\n",
      "df.head()"
     ],
     "language": "python",
     "metadata": {},
     "outputs": [
      {
       "html": [
        "<div style=\"max-height:1000px;max-width:1500px;overflow:auto;\">\n",
        "<table border=\"1\" class=\"dataframe\">\n",
        "  <thead>\n",
        "    <tr style=\"text-align: right;\">\n",
        "      <th></th>\n",
        "      <th>beer_reviews/</th>\n",
        "      <th>brewery_name</th>\n",
        "      <th>review_time</th>\n",
        "      <th>review_overall</th>\n",
        "      <th>review_aroma</th>\n",
        "      <th>review_appearance</th>\n",
        "      <th>review_profilename</th>\n",
        "      <th>beer_style</th>\n",
        "      <th>review_palate</th>\n",
        "      <th>review_taste</th>\n",
        "      <th>beer_name</th>\n",
        "      <th>beer_abv</th>\n",
        "      <th>beer_beerid</th>\n",
        "    </tr>\n",
        "  </thead>\n",
        "  <tbody>\n",
        "    <tr>\n",
        "      <th>798 </th>\n",
        "      <td>  1075</td>\n",
        "      <td> Caldera Brewing Company</td>\n",
        "      <td> 1212201268</td>\n",
        "      <td> 4.5</td>\n",
        "      <td> 4.5</td>\n",
        "      <td> 4</td>\n",
        "      <td>          grumpy</td>\n",
        "      <td> American Double / Imperial Stout</td>\n",
        "      <td> 4.0</td>\n",
        "      <td> 4.5</td>\n",
        "      <td> Imperial Stout</td>\n",
        "      <td> NaN</td>\n",
        "      <td> 42964</td>\n",
        "    </tr>\n",
        "    <tr>\n",
        "      <th>1559</th>\n",
        "      <td> 11715</td>\n",
        "      <td> Destiny Brewing Company</td>\n",
        "      <td> 1137124057</td>\n",
        "      <td> 4.0</td>\n",
        "      <td> 3.5</td>\n",
        "      <td> 4</td>\n",
        "      <td> blitheringidiot</td>\n",
        "      <td>          American Pale Ale (APA)</td>\n",
        "      <td> 3.5</td>\n",
        "      <td> 3.5</td>\n",
        "      <td>       Pale Ale</td>\n",
        "      <td> 4.5</td>\n",
        "      <td> 26420</td>\n",
        "    </tr>\n",
        "    <tr>\n",
        "      <th>1560</th>\n",
        "      <td> 11715</td>\n",
        "      <td> Destiny Brewing Company</td>\n",
        "      <td> 1129504403</td>\n",
        "      <td> 4.0</td>\n",
        "      <td> 2.5</td>\n",
        "      <td> 4</td>\n",
        "      <td>     NeroFiddled</td>\n",
        "      <td>          American Pale Ale (APA)</td>\n",
        "      <td> 4.0</td>\n",
        "      <td> 3.5</td>\n",
        "      <td>       Pale Ale</td>\n",
        "      <td> 4.5</td>\n",
        "      <td> 26420</td>\n",
        "    </tr>\n",
        "    <tr>\n",
        "      <th>1563</th>\n",
        "      <td> 11715</td>\n",
        "      <td> Destiny Brewing Company</td>\n",
        "      <td> 1137125989</td>\n",
        "      <td> 3.5</td>\n",
        "      <td> 3.0</td>\n",
        "      <td> 4</td>\n",
        "      <td> blitheringidiot</td>\n",
        "      <td>                     American IPA</td>\n",
        "      <td> 4.0</td>\n",
        "      <td> 4.0</td>\n",
        "      <td>            IPA</td>\n",
        "      <td> NaN</td>\n",
        "      <td> 26132</td>\n",
        "    </tr>\n",
        "    <tr>\n",
        "      <th>1564</th>\n",
        "      <td> 11715</td>\n",
        "      <td> Destiny Brewing Company</td>\n",
        "      <td> 1130936611</td>\n",
        "      <td> 3.0</td>\n",
        "      <td> 3.0</td>\n",
        "      <td> 3</td>\n",
        "      <td>          Gavage</td>\n",
        "      <td>                     American IPA</td>\n",
        "      <td> 4.0</td>\n",
        "      <td> 3.5</td>\n",
        "      <td>            IPA</td>\n",
        "      <td> NaN</td>\n",
        "      <td> 26132</td>\n",
        "    </tr>\n",
        "  </tbody>\n",
        "</table>\n",
        "<p>5 rows \u00d7 13 columns</p>\n",
        "</div>"
       ],
       "metadata": {},
       "output_type": "pyout",
       "prompt_number": 118,
       "text": [
        "     beer_reviews/             brewery_name  review_time  review_overall  \\\n",
        "798           1075  Caldera Brewing Company   1212201268             4.5   \n",
        "1559         11715  Destiny Brewing Company   1137124057             4.0   \n",
        "1560         11715  Destiny Brewing Company   1129504403             4.0   \n",
        "1563         11715  Destiny Brewing Company   1137125989             3.5   \n",
        "1564         11715  Destiny Brewing Company   1130936611             3.0   \n",
        "\n",
        "      review_aroma  review_appearance review_profilename  \\\n",
        "798            4.5                  4             grumpy   \n",
        "1559           3.5                  4    blitheringidiot   \n",
        "1560           2.5                  4        NeroFiddled   \n",
        "1563           3.0                  4    blitheringidiot   \n",
        "1564           3.0                  3             Gavage   \n",
        "\n",
        "                            beer_style  review_palate  review_taste  \\\n",
        "798   American Double / Imperial Stout            4.0           4.5   \n",
        "1559           American Pale Ale (APA)            3.5           3.5   \n",
        "1560           American Pale Ale (APA)            4.0           3.5   \n",
        "1563                      American IPA            4.0           4.0   \n",
        "1564                      American IPA            4.0           3.5   \n",
        "\n",
        "           beer_name  beer_abv  beer_beerid  \n",
        "798   Imperial Stout       NaN        42964  \n",
        "1559        Pale Ale       4.5        26420  \n",
        "1560        Pale Ale       4.5        26420  \n",
        "1563             IPA       NaN        26132  \n",
        "1564             IPA       NaN        26132  \n",
        "\n",
        "[5 rows x 13 columns]"
       ]
      }
     ],
     "prompt_number": 118
    },
    {
     "cell_type": "markdown",
     "metadata": {},
     "source": [
      "How big is this dataset?"
     ]
    },
    {
     "cell_type": "code",
     "collapsed": false,
     "input": [
      "df.info()"
     ],
     "language": "python",
     "metadata": {},
     "outputs": [
      {
       "output_type": "stream",
       "stream": "stdout",
       "text": [
        "<class 'pandas.core.frame.DataFrame'>\n",
        "Int64Index: 355275 entries, 798 to 1586564\n",
        "Data columns (total 13 columns):\n",
        "beer_reviews/         355275 non-null object\n",
        "brewery_name          355275 non-null object\n",
        "review_time           355275 non-null float64\n",
        "review_overall        355275 non-null float64\n",
        "review_aroma          355275 non-null float64\n",
        "review_appearance     355275 non-null float64\n",
        "review_profilename    355175 non-null object\n",
        "beer_style            355275 non-null object\n",
        "review_palate         355275 non-null float64\n",
        "review_taste          355275 non-null float64\n",
        "beer_name             355275 non-null object\n",
        "beer_abv              353477 non-null float64\n",
        "beer_beerid           355275 non-null float64\n",
        "dtypes: float64(8), object(5)"
       ]
      }
     ],
     "prompt_number": 11
    },
    {
     "cell_type": "markdown",
     "metadata": {},
     "source": [
      "Aggregate the data in a pivot table using the pivot_table method. Display the mean review_overall for each beer_name aggregating the review_overall values by review_profilename. Use the mean as aggregator."
     ]
    },
    {
     "cell_type": "code",
     "collapsed": false,
     "input": [
      "df_wide = pd.pivot_table(df, values=[\"review_overall\"],\n",
      "        rows=[\"beer_name\", \"review_profilename\"],\n",
      "        aggfunc=np.mean).unstack()\n",
      "df_wide.shape"
     ],
     "language": "python",
     "metadata": {},
     "outputs": [
      {
       "metadata": {},
       "output_type": "pyout",
       "prompt_number": 119,
       "text": [
        "(250, 22140)"
       ]
      }
     ],
     "prompt_number": 119
    },
    {
     "cell_type": "markdown",
     "metadata": {},
     "source": [
      "Display the head of the pivot table, but only for 5 users (columns are users)"
     ]
    },
    {
     "cell_type": "code",
     "collapsed": false,
     "input": [
      "df_wide.ix[0:5, 0:5]"
     ],
     "language": "python",
     "metadata": {},
     "outputs": [
      {
       "html": [
        "<div style=\"max-height:1000px;max-width:1500px;overflow:auto;\">\n",
        "<table border=\"1\" class=\"dataframe\">\n",
        "  <thead>\n",
        "    <tr>\n",
        "      <th></th>\n",
        "      <th colspan=\"5\" halign=\"left\">review_overall</th>\n",
        "    </tr>\n",
        "    <tr>\n",
        "      <th>review_profilename</th>\n",
        "      <th>0110x011</th>\n",
        "      <th>02maxima</th>\n",
        "      <th>03SVTCobra</th>\n",
        "      <th>05Harley</th>\n",
        "      <th>0Naught0</th>\n",
        "    </tr>\n",
        "    <tr>\n",
        "      <th>beer_name</th>\n",
        "      <th></th>\n",
        "      <th></th>\n",
        "      <th></th>\n",
        "      <th></th>\n",
        "      <th></th>\n",
        "    </tr>\n",
        "  </thead>\n",
        "  <tbody>\n",
        "    <tr>\n",
        "      <th>#9</th>\n",
        "      <td>NaN</td>\n",
        "      <td>NaN</td>\n",
        "      <td>NaN</td>\n",
        "      <td>NaN</td>\n",
        "      <td>NaN</td>\n",
        "    </tr>\n",
        "    <tr>\n",
        "      <th>120 Minute IPA</th>\n",
        "      <td>NaN</td>\n",
        "      <td>NaN</td>\n",
        "      <td>NaN</td>\n",
        "      <td>  4</td>\n",
        "      <td>NaN</td>\n",
        "    </tr>\n",
        "    <tr>\n",
        "      <th>1554 Enlightened Black Ale</th>\n",
        "      <td>NaN</td>\n",
        "      <td>NaN</td>\n",
        "      <td>NaN</td>\n",
        "      <td>NaN</td>\n",
        "      <td>NaN</td>\n",
        "    </tr>\n",
        "    <tr>\n",
        "      <th>60 Minute IPA</th>\n",
        "      <td>NaN</td>\n",
        "      <td>NaN</td>\n",
        "      <td>NaN</td>\n",
        "      <td>NaN</td>\n",
        "      <td>NaN</td>\n",
        "    </tr>\n",
        "    <tr>\n",
        "      <th>90 Minute IPA</th>\n",
        "      <td>  5</td>\n",
        "      <td>NaN</td>\n",
        "      <td>NaN</td>\n",
        "      <td>  4</td>\n",
        "      <td>NaN</td>\n",
        "    </tr>\n",
        "  </tbody>\n",
        "</table>\n",
        "<p>5 rows \u00d7 5 columns</p>\n",
        "</div>"
       ],
       "metadata": {},
       "output_type": "pyout",
       "prompt_number": 26,
       "text": [
        "                            review_overall                                  \\\n",
        "review_profilename                0110x011  02maxima  03SVTCobra  05Harley   \n",
        "beer_name                                                                    \n",
        "#9                                     NaN       NaN         NaN       NaN   \n",
        "120 Minute IPA                         NaN       NaN         NaN         4   \n",
        "1554 Enlightened Black Ale             NaN       NaN         NaN       NaN   \n",
        "60 Minute IPA                          NaN       NaN         NaN       NaN   \n",
        "90 Minute IPA                            5       NaN         NaN         4   \n",
        "\n",
        "                                      \n",
        "review_profilename          0Naught0  \n",
        "beer_name                             \n",
        "#9                               NaN  \n",
        "120 Minute IPA                   NaN  \n",
        "1554 Enlightened Black Ale       NaN  \n",
        "60 Minute IPA                    NaN  \n",
        "90 Minute IPA                    NaN  \n",
        "\n",
        "[5 rows x 5 columns]"
       ]
      }
     ],
     "prompt_number": 26
    },
    {
     "cell_type": "markdown",
     "metadata": {},
     "source": [
      "### Discussion: what do you notice in this table?"
     ]
    },
    {
     "cell_type": "markdown",
     "metadata": {},
     "source": [
      "Set Nans to zero"
     ]
    },
    {
     "cell_type": "code",
     "collapsed": false,
     "input": [
      "df_wide = df_wide.fillna(0)"
     ],
     "language": "python",
     "metadata": {},
     "outputs": [],
     "prompt_number": 120
    },
    {
     "cell_type": "markdown",
     "metadata": {},
     "source": [
      "Check that columns are users"
     ]
    },
    {
     "cell_type": "code",
     "collapsed": false,
     "input": [
      "df_wide.columns[:10]"
     ],
     "language": "python",
     "metadata": {},
     "outputs": [
      {
       "metadata": {},
       "output_type": "pyout",
       "prompt_number": 28,
       "text": [
        "MultiIndex(levels=[[u'review_overall'], [u'0110x011', u'02maxima', u'03SVTCobra', u'05Harley', u'0Naught0', u'0beerguy0', u'0runkp0s', u'0tt0', u'1000Bottles', u'1001111.0', u'100floods', u'100proof', u'1050Sudz', u'108Dragons', u'1099.0', u'1100.0', u'1121987.0', u'11millsown113', u'11osixBrew', u'11thFloorBrewing', u'1229design', u'12NattiBottles', u'12ouncecurls', u'12percent', u'12vUnion', u'130guy', u'13smurrf', u'160Shillings', u'1759Girl', u'1759dallas', u'17Guinness59', u'18alpha', u'196osh', u'1993Heel', u'1996StrokerKid', u'1Adam12', u'1MiltonWaddams', u'1PA', u'1after909', u'1brbn1sctch1beer', u'1fastz28', u'1morebeer', u'1noa', u'1quiks10', u'1santore', u'1thinmint', u'1whiskey', u'20ozmonkey', u'21mmer', u'220emaple', u'22ozStone', u'2369.0', u'2378GCGTG', u'23fyerfyter', u'2408bwk', u'245Trioxin', u'24Beer92', u'25santurce', u'28Rock', u'2BDChicago', u'2Cruzy', u'2DaMtns', u'2KHokie', u'2LBrew', u'2Shay', u'2Stout4u', u'2beerdogs', u'2cansam', u'2girls1hop', u'2heartedMIKE', u'2late2brew', u'2melow', u'2ndloveofmylife', u'2ndstage', u'2oose', u'2roosters', u'2stepZ', u'2wheeledpirate', u'2xHops', u'311kevin', u'31thadrty1', u'321jeff', u'322wingedfoot', u'32hoss32', u'33nickadams', u'3FaveryRogue', u'3HovsepiansBrews', u'3Vandoo', u'3dudesbeerblog', u'3frog', u'3leggeddub', u'3m3rson', u'3nlightenedfool', u'3rdRowTailgater', u'4000qtrap', u'404UGA', u'40oztofreedom89', u'420.0', u'44ouncer', u'454onbeerss', ...]],\n",
        "           labels=[[0, 0, 0, 0, 0, 0, 0, 0, 0, 0], [0, 1, 2, 3, 4, 5, 6, 7, 8, 9]],\n",
        "           names=[None, u'review_profilename'])"
       ]
      }
     ],
     "prompt_number": 28
    },
    {
     "cell_type": "markdown",
     "metadata": {},
     "source": [
      "Check that rows are beers"
     ]
    },
    {
     "cell_type": "code",
     "collapsed": false,
     "input": [
      "pd.Series(df_wide.index[:10])"
     ],
     "language": "python",
     "metadata": {},
     "outputs": [
      {
       "metadata": {},
       "output_type": "pyout",
       "prompt_number": 29,
       "text": [
        "0                                    #9\n",
        "1                        120 Minute IPA\n",
        "2            1554 Enlightened Black Ale\n",
        "3                         60 Minute IPA\n",
        "4                         90 Minute IPA\n",
        "5    Aecht Schlenkerla Rauchbier M\u00e4rzen\n",
        "6                          AleSmith IPA\n",
        "7               AleSmith Speedway Stout\n",
        "8                        Allagash White\n",
        "9                   Alpha King Pale Ale\n",
        "Name: beer_name, dtype: object"
       ]
      }
     ],
     "prompt_number": 29
    },
    {
     "cell_type": "markdown",
     "metadata": {},
     "source": [
      "### Calculate distance between beers\n",
      "\n",
      "This is the key. we're going to use cosine_similarity from scikit-learn to compute the distance between all beers"
     ]
    },
    {
     "cell_type": "markdown",
     "metadata": {},
     "source": [
      "Import stuff"
     ]
    },
    {
     "cell_type": "code",
     "collapsed": false,
     "input": [
      "from sklearn.metrics.pairwise import cosine_similarity\n",
      "from sklearn.metrics.pairwise import manhattan_distances\n",
      "from sklearn.metrics.pairwise import euclidean_distances"
     ],
     "language": "python",
     "metadata": {},
     "outputs": [],
     "prompt_number": 124
    },
    {
     "cell_type": "markdown",
     "metadata": {},
     "source": [
      "Apply cosine similarity to df_wide to calculate pairwise distances"
     ]
    },
    {
     "cell_type": "code",
     "collapsed": false,
     "input": [
      "dists = cosine_similarity(df_wide)\n",
      "dists"
     ],
     "language": "python",
     "metadata": {},
     "outputs": [
      {
       "metadata": {},
       "output_type": "pyout",
       "prompt_number": 125,
       "text": [
        "array([[ 1.        ,  0.27540494,  0.27410345, ...,  0.32928048,\n",
        "         0.34805798,  0.31249922],\n",
        "       [ 0.27540494,  1.        ,  0.25151873, ...,  0.2854835 ,\n",
        "         0.23301356,  0.2802485 ],\n",
        "       [ 0.27410345,  0.25151873,  1.        , ...,  0.31629515,\n",
        "         0.22521858,  0.2737628 ],\n",
        "       ..., \n",
        "       [ 0.32928048,  0.2854835 ,  0.31629515, ...,  1.        ,\n",
        "         0.28025764,  0.34504013],\n",
        "       [ 0.34805798,  0.23301356,  0.22521858, ...,  0.28025764,\n",
        "         1.        ,  0.25526913],\n",
        "       [ 0.31249922,  0.2802485 ,  0.2737628 , ...,  0.34504013,\n",
        "         0.25526913,  1.        ]])"
       ]
      }
     ],
     "prompt_number": 125
    },
    {
     "cell_type": "markdown",
     "metadata": {},
     "source": [
      "### Discussion: what type of object is dists?"
     ]
    },
    {
     "cell_type": "markdown",
     "metadata": {},
     "source": [
      "Convert dists to a Pandas DataFrame, use the index as column index as well (distances are a square matrix)."
     ]
    },
    {
     "cell_type": "code",
     "collapsed": false,
     "input": [
      "dists = pd.DataFrame(dists, columns=df_wide.index)\n",
      "\n",
      "dists.index = dists.columns\n",
      "dists.ix[0:10, 0:10]"
     ],
     "language": "python",
     "metadata": {},
     "outputs": [
      {
       "html": [
        "<div style=\"max-height:1000px;max-width:1500px;overflow:auto;\">\n",
        "<table border=\"1\" class=\"dataframe\">\n",
        "  <thead>\n",
        "    <tr style=\"text-align: right;\">\n",
        "      <th>beer_name</th>\n",
        "      <th>#9</th>\n",
        "      <th>120 Minute IPA</th>\n",
        "      <th>1554 Enlightened Black Ale</th>\n",
        "      <th>60 Minute IPA</th>\n",
        "      <th>90 Minute IPA</th>\n",
        "      <th>Aecht Schlenkerla Rauchbier M\u00e4rzen</th>\n",
        "      <th>AleSmith IPA</th>\n",
        "      <th>AleSmith Speedway Stout</th>\n",
        "      <th>Allagash White</th>\n",
        "      <th>Alpha King Pale Ale</th>\n",
        "    </tr>\n",
        "    <tr>\n",
        "      <th>beer_name</th>\n",
        "      <th></th>\n",
        "      <th></th>\n",
        "      <th></th>\n",
        "      <th></th>\n",
        "      <th></th>\n",
        "      <th></th>\n",
        "      <th></th>\n",
        "      <th></th>\n",
        "      <th></th>\n",
        "      <th></th>\n",
        "    </tr>\n",
        "  </thead>\n",
        "  <tbody>\n",
        "    <tr>\n",
        "      <th>#9</th>\n",
        "      <td> 1.000000</td>\n",
        "      <td> 0.275405</td>\n",
        "      <td> 0.274103</td>\n",
        "      <td> 0.388364</td>\n",
        "      <td> 0.365175</td>\n",
        "      <td> 0.253841</td>\n",
        "      <td> 0.228479</td>\n",
        "      <td> 0.227612</td>\n",
        "      <td> 0.340681</td>\n",
        "      <td> 0.293315</td>\n",
        "    </tr>\n",
        "    <tr>\n",
        "      <th>120 Minute IPA</th>\n",
        "      <td> 0.275405</td>\n",
        "      <td> 1.000000</td>\n",
        "      <td> 0.251519</td>\n",
        "      <td> 0.378258</td>\n",
        "      <td> 0.410366</td>\n",
        "      <td> 0.262425</td>\n",
        "      <td> 0.315971</td>\n",
        "      <td> 0.337541</td>\n",
        "      <td> 0.282273</td>\n",
        "      <td> 0.336796</td>\n",
        "    </tr>\n",
        "    <tr>\n",
        "      <th>1554 Enlightened Black Ale</th>\n",
        "      <td> 0.274103</td>\n",
        "      <td> 0.251519</td>\n",
        "      <td> 1.000000</td>\n",
        "      <td> 0.319887</td>\n",
        "      <td> 0.314028</td>\n",
        "      <td> 0.252486</td>\n",
        "      <td> 0.266866</td>\n",
        "      <td> 0.261761</td>\n",
        "      <td> 0.260275</td>\n",
        "      <td> 0.307296</td>\n",
        "    </tr>\n",
        "    <tr>\n",
        "      <th>60 Minute IPA</th>\n",
        "      <td> 0.388364</td>\n",
        "      <td> 0.378258</td>\n",
        "      <td> 0.319887</td>\n",
        "      <td> 1.000000</td>\n",
        "      <td> 0.533042</td>\n",
        "      <td> 0.316928</td>\n",
        "      <td> 0.312343</td>\n",
        "      <td> 0.307627</td>\n",
        "      <td> 0.360975</td>\n",
        "      <td> 0.385249</td>\n",
        "    </tr>\n",
        "    <tr>\n",
        "      <th>90 Minute IPA</th>\n",
        "      <td> 0.365175</td>\n",
        "      <td> 0.410366</td>\n",
        "      <td> 0.314028</td>\n",
        "      <td> 0.533042</td>\n",
        "      <td> 1.000000</td>\n",
        "      <td> 0.312861</td>\n",
        "      <td> 0.344218</td>\n",
        "      <td> 0.358754</td>\n",
        "      <td> 0.356804</td>\n",
        "      <td> 0.418582</td>\n",
        "    </tr>\n",
        "    <tr>\n",
        "      <th>Aecht Schlenkerla Rauchbier M\u00e4rzen</th>\n",
        "      <td> 0.253841</td>\n",
        "      <td> 0.262425</td>\n",
        "      <td> 0.252486</td>\n",
        "      <td> 0.316928</td>\n",
        "      <td> 0.312861</td>\n",
        "      <td> 1.000000</td>\n",
        "      <td> 0.244490</td>\n",
        "      <td> 0.246063</td>\n",
        "      <td> 0.297672</td>\n",
        "      <td> 0.263248</td>\n",
        "    </tr>\n",
        "    <tr>\n",
        "      <th>AleSmith IPA</th>\n",
        "      <td> 0.228479</td>\n",
        "      <td> 0.315971</td>\n",
        "      <td> 0.266866</td>\n",
        "      <td> 0.312343</td>\n",
        "      <td> 0.344218</td>\n",
        "      <td> 0.244490</td>\n",
        "      <td> 1.000000</td>\n",
        "      <td> 0.521889</td>\n",
        "      <td> 0.277409</td>\n",
        "      <td> 0.400741</td>\n",
        "    </tr>\n",
        "    <tr>\n",
        "      <th>AleSmith Speedway Stout</th>\n",
        "      <td> 0.227612</td>\n",
        "      <td> 0.337541</td>\n",
        "      <td> 0.261761</td>\n",
        "      <td> 0.307627</td>\n",
        "      <td> 0.358754</td>\n",
        "      <td> 0.246063</td>\n",
        "      <td> 0.521889</td>\n",
        "      <td> 1.000000</td>\n",
        "      <td> 0.273930</td>\n",
        "      <td> 0.420247</td>\n",
        "    </tr>\n",
        "    <tr>\n",
        "      <th>Allagash White</th>\n",
        "      <td> 0.340681</td>\n",
        "      <td> 0.282273</td>\n",
        "      <td> 0.260275</td>\n",
        "      <td> 0.360975</td>\n",
        "      <td> 0.356804</td>\n",
        "      <td> 0.297672</td>\n",
        "      <td> 0.277409</td>\n",
        "      <td> 0.273930</td>\n",
        "      <td> 1.000000</td>\n",
        "      <td> 0.295666</td>\n",
        "    </tr>\n",
        "    <tr>\n",
        "      <th>Alpha King Pale Ale</th>\n",
        "      <td> 0.293315</td>\n",
        "      <td> 0.336796</td>\n",
        "      <td> 0.307296</td>\n",
        "      <td> 0.385249</td>\n",
        "      <td> 0.418582</td>\n",
        "      <td> 0.263248</td>\n",
        "      <td> 0.400741</td>\n",
        "      <td> 0.420247</td>\n",
        "      <td> 0.295666</td>\n",
        "      <td> 1.000000</td>\n",
        "    </tr>\n",
        "  </tbody>\n",
        "</table>\n",
        "<p>10 rows \u00d7 10 columns</p>\n",
        "</div>"
       ],
       "metadata": {},
       "output_type": "pyout",
       "prompt_number": 126,
       "text": [
        "beer_name                                 #9  120 Minute IPA  \\\n",
        "beer_name                                                      \n",
        "#9                                  1.000000        0.275405   \n",
        "120 Minute IPA                      0.275405        1.000000   \n",
        "1554 Enlightened Black Ale          0.274103        0.251519   \n",
        "60 Minute IPA                       0.388364        0.378258   \n",
        "90 Minute IPA                       0.365175        0.410366   \n",
        "Aecht Schlenkerla Rauchbier M\u00e4rzen  0.253841        0.262425   \n",
        "AleSmith IPA                        0.228479        0.315971   \n",
        "AleSmith Speedway Stout             0.227612        0.337541   \n",
        "Allagash White                      0.340681        0.282273   \n",
        "Alpha King Pale Ale                 0.293315        0.336796   \n",
        "\n",
        "beer_name                           1554 Enlightened Black Ale  60 Minute IPA  \\\n",
        "beer_name                                                                       \n",
        "#9                                                    0.274103       0.388364   \n",
        "120 Minute IPA                                        0.251519       0.378258   \n",
        "1554 Enlightened Black Ale                            1.000000       0.319887   \n",
        "60 Minute IPA                                         0.319887       1.000000   \n",
        "90 Minute IPA                                         0.314028       0.533042   \n",
        "Aecht Schlenkerla Rauchbier M\u00e4rzen                    0.252486       0.316928   \n",
        "AleSmith IPA                                          0.266866       0.312343   \n",
        "AleSmith Speedway Stout                               0.261761       0.307627   \n",
        "Allagash White                                        0.260275       0.360975   \n",
        "Alpha King Pale Ale                                   0.307296       0.385249   \n",
        "\n",
        "beer_name                           90 Minute IPA  \\\n",
        "beer_name                                           \n",
        "#9                                       0.365175   \n",
        "120 Minute IPA                           0.410366   \n",
        "1554 Enlightened Black Ale               0.314028   \n",
        "60 Minute IPA                            0.533042   \n",
        "90 Minute IPA                            1.000000   \n",
        "Aecht Schlenkerla Rauchbier M\u00e4rzen       0.312861   \n",
        "AleSmith IPA                             0.344218   \n",
        "AleSmith Speedway Stout                  0.358754   \n",
        "Allagash White                           0.356804   \n",
        "Alpha King Pale Ale                      0.418582   \n",
        "\n",
        "beer_name                           Aecht Schlenkerla Rauchbier M\u00e4rzen  \\\n",
        "beer_name                                                                \n",
        "#9                                                            0.253841   \n",
        "120 Minute IPA                                                0.262425   \n",
        "1554 Enlightened Black Ale                                    0.252486   \n",
        "60 Minute IPA                                                 0.316928   \n",
        "90 Minute IPA                                                 0.312861   \n",
        "Aecht Schlenkerla Rauchbier M\u00e4rzen                            1.000000   \n",
        "AleSmith IPA                                                  0.244490   \n",
        "AleSmith Speedway Stout                                       0.246063   \n",
        "Allagash White                                                0.297672   \n",
        "Alpha King Pale Ale                                           0.263248   \n",
        "\n",
        "beer_name                           AleSmith IPA  AleSmith Speedway Stout  \\\n",
        "beer_name                                                                   \n",
        "#9                                      0.228479                 0.227612   \n",
        "120 Minute IPA                          0.315971                 0.337541   \n",
        "1554 Enlightened Black Ale              0.266866                 0.261761   \n",
        "60 Minute IPA                           0.312343                 0.307627   \n",
        "90 Minute IPA                           0.344218                 0.358754   \n",
        "Aecht Schlenkerla Rauchbier M\u00e4rzen      0.244490                 0.246063   \n",
        "AleSmith IPA                            1.000000                 0.521889   \n",
        "AleSmith Speedway Stout                 0.521889                 1.000000   \n",
        "Allagash White                          0.277409                 0.273930   \n",
        "Alpha King Pale Ale                     0.400741                 0.420247   \n",
        "\n",
        "beer_name                           Allagash White  Alpha King Pale Ale  \n",
        "beer_name                                                                \n",
        "#9                                        0.340681             0.293315  \n",
        "120 Minute IPA                            0.282273             0.336796  \n",
        "1554 Enlightened Black Ale                0.260275             0.307296  \n",
        "60 Minute IPA                             0.360975             0.385249  \n",
        "90 Minute IPA                             0.356804             0.418582  \n",
        "Aecht Schlenkerla Rauchbier M\u00e4rzen        0.297672             0.263248  \n",
        "AleSmith IPA                              0.277409             0.400741  \n",
        "AleSmith Speedway Stout                   0.273930             0.420247  \n",
        "Allagash White                            1.000000             0.295666  \n",
        "Alpha King Pale Ale                       0.295666             1.000000  \n",
        "\n",
        "[10 rows x 10 columns]"
       ]
      }
     ],
     "prompt_number": 126
    },
    {
     "cell_type": "markdown",
     "metadata": {},
     "source": [
      "Select some beers and look their distances to other beers"
     ]
    },
    {
     "cell_type": "code",
     "collapsed": false,
     "input": [
      "beers_i_like = ['Sierra Nevada Pale Ale', '120 Minute IPA', 'Allagash White']\n",
      "dists[beers_i_like].head()"
     ],
     "language": "python",
     "metadata": {},
     "outputs": [
      {
       "html": [
        "<div style=\"max-height:1000px;max-width:1500px;overflow:auto;\">\n",
        "<table border=\"1\" class=\"dataframe\">\n",
        "  <thead>\n",
        "    <tr style=\"text-align: right;\">\n",
        "      <th>beer_name</th>\n",
        "      <th>Sierra Nevada Pale Ale</th>\n",
        "      <th>120 Minute IPA</th>\n",
        "      <th>Allagash White</th>\n",
        "    </tr>\n",
        "    <tr>\n",
        "      <th>beer_name</th>\n",
        "      <th></th>\n",
        "      <th></th>\n",
        "      <th></th>\n",
        "    </tr>\n",
        "  </thead>\n",
        "  <tbody>\n",
        "    <tr>\n",
        "      <th>#9</th>\n",
        "      <td> 0.373968</td>\n",
        "      <td> 0.275405</td>\n",
        "      <td> 0.340681</td>\n",
        "    </tr>\n",
        "    <tr>\n",
        "      <th>120 Minute IPA</th>\n",
        "      <td> 0.301693</td>\n",
        "      <td> 1.000000</td>\n",
        "      <td> 0.282273</td>\n",
        "    </tr>\n",
        "    <tr>\n",
        "      <th>1554 Enlightened Black Ale</th>\n",
        "      <td> 0.330033</td>\n",
        "      <td> 0.251519</td>\n",
        "      <td> 0.260275</td>\n",
        "    </tr>\n",
        "    <tr>\n",
        "      <th>60 Minute IPA</th>\n",
        "      <td> 0.459641</td>\n",
        "      <td> 0.378258</td>\n",
        "      <td> 0.360975</td>\n",
        "    </tr>\n",
        "    <tr>\n",
        "      <th>90 Minute IPA</th>\n",
        "      <td> 0.441189</td>\n",
        "      <td> 0.410366</td>\n",
        "      <td> 0.356804</td>\n",
        "    </tr>\n",
        "  </tbody>\n",
        "</table>\n",
        "<p>5 rows \u00d7 3 columns</p>\n",
        "</div>"
       ],
       "metadata": {},
       "output_type": "pyout",
       "prompt_number": 127,
       "text": [
        "beer_name                   Sierra Nevada Pale Ale  120 Minute IPA  \\\n",
        "beer_name                                                            \n",
        "#9                                        0.373968        0.275405   \n",
        "120 Minute IPA                            0.301693        1.000000   \n",
        "1554 Enlightened Black Ale                0.330033        0.251519   \n",
        "60 Minute IPA                             0.459641        0.378258   \n",
        "90 Minute IPA                             0.441189        0.410366   \n",
        "\n",
        "beer_name                   Allagash White  \n",
        "beer_name                                   \n",
        "#9                                0.340681  \n",
        "120 Minute IPA                    0.282273  \n",
        "1554 Enlightened Black Ale        0.260275  \n",
        "60 Minute IPA                     0.360975  \n",
        "90 Minute IPA                     0.356804  \n",
        "\n",
        "[5 rows x 3 columns]"
       ]
      }
     ],
     "prompt_number": 127
    },
    {
     "cell_type": "markdown",
     "metadata": {},
     "source": [
      "Sum the distances of my favourite beers by row, to have one distance from each beer in the sample"
     ]
    },
    {
     "cell_type": "code",
     "collapsed": false,
     "input": [
      "beers_summed = dists[beers_i_like].apply(lambda row: np.sum(row), axis=1)\n",
      "#beers_summed = np.sum(dists[beers_i_like], axis=1)"
     ],
     "language": "python",
     "metadata": {},
     "outputs": [],
     "prompt_number": 140
    },
    {
     "cell_type": "markdown",
     "metadata": {},
     "source": [
      "Optional: which one is faster? use ```%timeit``` to check"
     ]
    },
    {
     "cell_type": "code",
     "collapsed": false,
     "input": [
      "%timeit dists[beers_i_like].apply(lambda row: np.sum(row), axis=1)"
     ],
     "language": "python",
     "metadata": {},
     "outputs": [
      {
       "output_type": "stream",
       "stream": "stdout",
       "text": [
        "100 loops, best of 3: 9.27 ms per loop\n"
       ]
      }
     ],
     "prompt_number": 129
    },
    {
     "cell_type": "markdown",
     "metadata": {},
     "source": [
      "Sort summed beers from best to worse"
     ]
    },
    {
     "cell_type": "code",
     "collapsed": false,
     "input": [
      "%timeit np.sum(dists[beers_i_like], axis=1)"
     ],
     "language": "python",
     "metadata": {},
     "outputs": [
      {
       "output_type": "stream",
       "stream": "stdout",
       "text": [
        "1000 loops, best of 3: 448 \u00b5s per loop\n"
       ]
      }
     ],
     "prompt_number": 130
    },
    {
     "cell_type": "code",
     "collapsed": false,
     "input": [
      "beers_summed = beers_summed.order(ascending=False)\n",
      "beers_summed"
     ],
     "language": "python",
     "metadata": {},
     "outputs": [
      {
       "metadata": {},
       "output_type": "pyout",
       "prompt_number": 141,
       "text": [
        "beer_name\n",
        "Sierra Nevada Pale Ale                        1.654205\n",
        "Allagash White                                1.634784\n",
        "120 Minute IPA                                1.583966\n",
        "HopDevil Ale                                  1.224217\n",
        "Sierra Nevada Celebration Ale                 1.215156\n",
        "90 Minute IPA                                 1.208359\n",
        "60 Minute IPA                                 1.198874\n",
        "Stone Ruination IPA                           1.194210\n",
        "Stone IPA (India Pale Ale)                    1.193193\n",
        "Storm King Stout                              1.192405\n",
        "Arrogant Bastard Ale                          1.189981\n",
        "Sierra Nevada Bigfoot Barleywine Style Ale    1.178245\n",
        "Prima Pils                                    1.178093\n",
        "Brooklyn Black Chocolate Stout                1.156365\n",
        "Ayinger Celebrator Doppelbock                 1.148356\n",
        "...\n",
        "Budweiser                                   0.758390\n",
        "Furious                                     0.757417\n",
        "New Holland Dragon's Milk Oak Barrel Ale    0.756746\n",
        "Raging Bitch Belgian-Style IPA              0.752031\n",
        "Terrapin Coffee Oatmeal Imperial Stout      0.750240\n",
        "Hobgoblin                                   0.748117\n",
        "Shiner Bock                                 0.739454\n",
        "The Abyss                                   0.723008\n",
        "Miller Lite                                 0.716208\n",
        "Leinenkugel's Sunset Wheat                  0.710691\n",
        "Bud Light                                   0.710377\n",
        "Corona Extra                                0.682882\n",
        "Miller High Life                            0.682360\n",
        "Coors Light                                 0.670167\n",
        "Vanilla Porter                              0.664363\n",
        "Length: 250, dtype: float64"
       ]
      }
     ],
     "prompt_number": 141
    },
    {
     "cell_type": "markdown",
     "metadata": {},
     "source": [
      "Filter out the beers used as input and transform to list"
     ]
    },
    {
     "cell_type": "code",
     "collapsed": false,
     "input": [
      "ranked_beers = beers_summed.index[beers_summed.index.isin(beers_i_like)==False]\n",
      "ranked_beers = ranked_beers.tolist()\n",
      "ranked_beers[:5]"
     ],
     "language": "python",
     "metadata": {},
     "outputs": [
      {
       "metadata": {},
       "output_type": "pyout",
       "prompt_number": 143,
       "text": [
        "['HopDevil Ale',\n",
        " 'Sierra Nevada Celebration Ale',\n",
        " '90 Minute IPA',\n",
        " '60 Minute IPA',\n",
        " 'Stone Ruination IPA']"
       ]
      }
     ],
     "prompt_number": 143
    },
    {
     "cell_type": "markdown",
     "metadata": {},
     "source": [
      "Define a function that does what we just did for an arbitrary input list of beers. it should also receive the maximum number of beers requested n as optional parameter."
     ]
    },
    {
     "cell_type": "code",
     "collapsed": false,
     "input": [
      "def get_similar(beers, n=None):\n",
      "    \"\"\"\n",
      "    calculates which beers are most similar to the beers provided. Does not return\n",
      "    the beers that were provided\n",
      "    \n",
      "    Parameters\n",
      "    ----------\n",
      "    beers: list\n",
      "        some beers!\n",
      "    \n",
      "    Returns\n",
      "    -------\n",
      "    ranked_beers: list\n",
      "        rank ordered beers\n",
      "    \"\"\"\n",
      "    beers = [beer for beer in beers if beer in dists.columns]\n",
      "    beers_summed = dists[beers].apply(lambda row: np.sum(row), axis=1)\n",
      "    beers_summed = beers_summed.order(ascending=False)\n",
      "    ranked_beers = beers_summed.index[beers_summed.index.isin(beers)==False]\n",
      "    ranked_beers = ranked_beers.tolist()\n",
      "    if n is None:\n",
      "        return ranked_beers\n",
      "    else:\n",
      "        return ranked_beers[:n]"
     ],
     "language": "python",
     "metadata": {},
     "outputs": [],
     "prompt_number": 144
    },
    {
     "cell_type": "markdown",
     "metadata": {},
     "source": [
      "Test your function. Find the 10 beers most similar to \"120 Minute IPA\""
     ]
    },
    {
     "cell_type": "code",
     "collapsed": false,
     "input": [
      "for beer in get_similar([\"120 Minute IPA\"], 10):\n",
      "    print beer"
     ],
     "language": "python",
     "metadata": {},
     "outputs": [
      {
       "output_type": "stream",
       "stream": "stdout",
       "text": [
        "World Wide Stout\n",
        "90 Minute IPA\n",
        "Double Bastard Ale\n",
        "Stone Ruination IPA\n",
        "Stone Imperial Russian Stout\n",
        "Storm King Stout\n",
        "60 Minute IPA\n",
        "Oaked Arrogant Bastard Ale\n",
        "Sierra Nevada Bigfoot Barleywine Style Ale\n",
        "Brooklyn Black Chocolate Stout\n"
       ]
      }
     ],
     "prompt_number": 145
    },
    {
     "cell_type": "markdown",
     "metadata": {},
     "source": [
      "Cool, let's try again with the 10 beers most similar to [\"Coors Light\", \"Bud Light\", \"Amstel Light\"]"
     ]
    },
    {
     "cell_type": "code",
     "collapsed": false,
     "input": [
      "for i, beer in enumerate(get_similar([\"Coors Light\", \"Bud Light\", \"Amstel Light\"], 10)):\n",
      "    print \"%d) %s\" % (i+1, beer)"
     ],
     "language": "python",
     "metadata": {},
     "outputs": [
      {
       "output_type": "stream",
       "stream": "stdout",
       "text": [
        "1) Miller Lite\n",
        "2) Budweiser\n",
        "3) Corona Extra\n",
        "4) Samuel Adams Boston Lager\n",
        "5) Heineken Lager Beer\n",
        "6) Blue Moon Belgian White\n",
        "7) Guinness Draught\n",
        "8) Miller High Life\n",
        "9) Samuel Adams Summer Ale\n",
        "10) Sierra Nevada Pale Ale\n"
       ]
      }
     ],
     "prompt_number": 49
    },
    {
     "cell_type": "markdown",
     "metadata": {},
     "source": [
      "Optional: register an account on yhat and deploy your model following the instructions [here](https://docs.yhathq.com/python/examples/beer-recommender) and [here](http://nbviewer.ipython.org/gist/glamp/20a18d52c539b87de2af)"
     ]
    },
    {
     "cell_type": "markdown",
     "metadata": {},
     "source": [
      "## Recsys\n",
      "\n",
      "A python library for implementing a recommender system"
     ]
    },
    {
     "cell_type": "code",
     "collapsed": false,
     "input": [
      "\"\"\"\n",
      "##install python-recsys\n",
      "\n",
      "### first install dependencies\n",
      "\n",
      "pip install csc-pysparse networkx divisi2\n",
      "\n",
      "### then install recsys\n",
      "git clone https://github.com/python-recsys/python-recsys.git\n",
      "cd python-recsys/\n",
      "\n",
      "python setup.py install\n",
      "\"\"\""
     ],
     "language": "python",
     "metadata": {},
     "outputs": []
    },
    {
     "cell_type": "markdown",
     "metadata": {},
     "source": [
      "Load recsys.algotihm, set VERBOSE = True import SVD class"
     ]
    },
    {
     "cell_type": "code",
     "collapsed": false,
     "input": [
      "import recsys.algorithm\n",
      "recsys.algorithm.VERBOSE = True\n",
      "from recsys.algorithm.factorize import SVD"
     ],
     "language": "python",
     "metadata": {},
     "outputs": [],
     "prompt_number": 1
    },
    {
     "cell_type": "markdown",
     "metadata": {},
     "source": [
      "Let's look at the files"
     ]
    },
    {
     "cell_type": "code",
     "collapsed": false,
     "input": [
      "! ls data/movielens"
     ],
     "language": "python",
     "metadata": {},
     "outputs": [
      {
       "output_type": "stream",
       "stream": "stdout",
       "text": [
        "README      movies.dat  ratings.dat users.dat\r\n"
       ]
      }
     ],
     "prompt_number": 147
    },
    {
     "cell_type": "code",
     "collapsed": false,
     "input": [
      "movies = pd.read_table('data/movielens/movies.dat', sep='::', names= ['ITEMID', 'Title', 'Genres'], index_col= 'ITEMID')"
     ],
     "language": "python",
     "metadata": {},
     "outputs": [],
     "prompt_number": 92
    },
    {
     "cell_type": "code",
     "collapsed": false,
     "input": [
      "movies.head()"
     ],
     "language": "python",
     "metadata": {},
     "outputs": [
      {
       "html": [
        "<div style=\"max-height:1000px;max-width:1500px;overflow:auto;\">\n",
        "<table border=\"1\" class=\"dataframe\">\n",
        "  <thead>\n",
        "    <tr style=\"text-align: right;\">\n",
        "      <th></th>\n",
        "      <th>Title</th>\n",
        "      <th>Genres</th>\n",
        "    </tr>\n",
        "    <tr>\n",
        "      <th>ITEMID</th>\n",
        "      <th></th>\n",
        "      <th></th>\n",
        "    </tr>\n",
        "  </thead>\n",
        "  <tbody>\n",
        "    <tr>\n",
        "      <th>1</th>\n",
        "      <td>                   Toy Story (1995)</td>\n",
        "      <td>  Animation|Children's|Comedy</td>\n",
        "    </tr>\n",
        "    <tr>\n",
        "      <th>2</th>\n",
        "      <td>                     Jumanji (1995)</td>\n",
        "      <td> Adventure|Children's|Fantasy</td>\n",
        "    </tr>\n",
        "    <tr>\n",
        "      <th>3</th>\n",
        "      <td>            Grumpier Old Men (1995)</td>\n",
        "      <td>               Comedy|Romance</td>\n",
        "    </tr>\n",
        "    <tr>\n",
        "      <th>4</th>\n",
        "      <td>           Waiting to Exhale (1995)</td>\n",
        "      <td>                 Comedy|Drama</td>\n",
        "    </tr>\n",
        "    <tr>\n",
        "      <th>5</th>\n",
        "      <td> Father of the Bride Part II (1995)</td>\n",
        "      <td>                       Comedy</td>\n",
        "    </tr>\n",
        "  </tbody>\n",
        "</table>\n",
        "<p>5 rows \u00d7 2 columns</p>\n",
        "</div>"
       ],
       "metadata": {},
       "output_type": "pyout",
       "prompt_number": 93,
       "text": [
        "                                     Title                        Genres\n",
        "ITEMID                                                                  \n",
        "1                         Toy Story (1995)   Animation|Children's|Comedy\n",
        "2                           Jumanji (1995)  Adventure|Children's|Fantasy\n",
        "3                  Grumpier Old Men (1995)                Comedy|Romance\n",
        "4                 Waiting to Exhale (1995)                  Comedy|Drama\n",
        "5       Father of the Bride Part II (1995)                        Comedy\n",
        "\n",
        "[5 rows x 2 columns]"
       ]
      }
     ],
     "prompt_number": 93
    },
    {
     "cell_type": "code",
     "collapsed": false,
     "input": [
      "ratings = pd.read_table('data/movielens/ratings.dat', sep='::', names= ['UserID','MovieID','Rating','Timestamp'])"
     ],
     "language": "python",
     "metadata": {},
     "outputs": [],
     "prompt_number": 94
    },
    {
     "cell_type": "code",
     "collapsed": false,
     "input": [
      "ratings.head()"
     ],
     "language": "python",
     "metadata": {},
     "outputs": [
      {
       "html": [
        "<div style=\"max-height:1000px;max-width:1500px;overflow:auto;\">\n",
        "<table border=\"1\" class=\"dataframe\">\n",
        "  <thead>\n",
        "    <tr style=\"text-align: right;\">\n",
        "      <th></th>\n",
        "      <th>UserID</th>\n",
        "      <th>MovieID</th>\n",
        "      <th>Rating</th>\n",
        "      <th>Timestamp</th>\n",
        "    </tr>\n",
        "  </thead>\n",
        "  <tbody>\n",
        "    <tr>\n",
        "      <th>0</th>\n",
        "      <td> 1</td>\n",
        "      <td> 1193</td>\n",
        "      <td> 5</td>\n",
        "      <td> 978300760</td>\n",
        "    </tr>\n",
        "    <tr>\n",
        "      <th>1</th>\n",
        "      <td> 1</td>\n",
        "      <td>  661</td>\n",
        "      <td> 3</td>\n",
        "      <td> 978302109</td>\n",
        "    </tr>\n",
        "    <tr>\n",
        "      <th>2</th>\n",
        "      <td> 1</td>\n",
        "      <td>  914</td>\n",
        "      <td> 3</td>\n",
        "      <td> 978301968</td>\n",
        "    </tr>\n",
        "    <tr>\n",
        "      <th>3</th>\n",
        "      <td> 1</td>\n",
        "      <td> 3408</td>\n",
        "      <td> 4</td>\n",
        "      <td> 978300275</td>\n",
        "    </tr>\n",
        "    <tr>\n",
        "      <th>4</th>\n",
        "      <td> 1</td>\n",
        "      <td> 2355</td>\n",
        "      <td> 5</td>\n",
        "      <td> 978824291</td>\n",
        "    </tr>\n",
        "  </tbody>\n",
        "</table>\n",
        "<p>5 rows \u00d7 4 columns</p>\n",
        "</div>"
       ],
       "metadata": {},
       "output_type": "pyout",
       "prompt_number": 95,
       "text": [
        "   UserID  MovieID  Rating  Timestamp\n",
        "0       1     1193       5  978300760\n",
        "1       1      661       3  978302109\n",
        "2       1      914       3  978301968\n",
        "3       1     3408       4  978300275\n",
        "4       1     2355       5  978824291\n",
        "\n",
        "[5 rows x 4 columns]"
       ]
      }
     ],
     "prompt_number": 95
    },
    {
     "cell_type": "markdown",
     "metadata": {},
     "source": [
      "Initialize an SVD instance"
     ]
    },
    {
     "cell_type": "code",
     "collapsed": false,
     "input": [
      "svd = SVD()"
     ],
     "language": "python",
     "metadata": {},
     "outputs": [],
     "prompt_number": 2
    },
    {
     "cell_type": "markdown",
     "metadata": {},
     "source": [
      "Populate it with the data from the ratings dataset, using the built in load_data method"
     ]
    },
    {
     "cell_type": "code",
     "collapsed": false,
     "input": [
      "svd.load_data(filename='./data/movielens/ratings.dat', sep='::', format={'col':0, 'row':1, 'value':2, 'ids': int})"
     ],
     "language": "python",
     "metadata": {},
     "outputs": [
      {
       "output_type": "stream",
       "stream": "stdout",
       "text": [
        "Loading ./data/movielens/ratings.dat\n",
        "."
       ]
      },
      {
       "output_type": "stream",
       "stream": "stdout",
       "text": [
        ".."
       ]
      },
      {
       "output_type": "stream",
       "stream": "stdout",
       "text": [
        ".."
       ]
      },
      {
       "output_type": "stream",
       "stream": "stdout",
       "text": [
        ".."
       ]
      },
      {
       "output_type": "stream",
       "stream": "stdout",
       "text": [
        ".."
       ]
      },
      {
       "output_type": "stream",
       "stream": "stdout",
       "text": [
        ".|\n"
       ]
      }
     ],
     "prompt_number": 3
    },
    {
     "cell_type": "markdown",
     "metadata": {},
     "source": [
      "Compute SVD\n",
      "\n",
      "$M=U \\Sigma V^T$:"
     ]
    },
    {
     "cell_type": "code",
     "collapsed": false,
     "input": [
      "k = 100\n",
      "svd.compute(k=k, min_values=10, pre_normalize=None, mean_center=True, post_normalize=True)"
     ],
     "language": "python",
     "metadata": {},
     "outputs": [
      {
       "output_type": "stream",
       "stream": "stdout",
       "text": [
        "Creating matrix (1000209 tuples)\n",
        "Matrix density is: 4.4684%\n"
       ]
      },
      {
       "output_type": "stream",
       "stream": "stdout",
       "text": [
        "Updating matrix: squish to at least 10 values\n",
        "Computing svd k=100, min_values=10, pre_normalize=None, mean_center=True, post_normalize=True\n"
       ]
      },
      {
       "output_type": "stream",
       "stream": "stdout",
       "text": [
        "[WARNING] mean_center is True. svd.similar(...) might return nan's. If so, then do svd.compute(..., mean_center=False)\n"
       ]
      }
     ],
     "prompt_number": 4
    },
    {
     "cell_type": "markdown",
     "metadata": {},
     "source": [
      "you can also save the output SVD model (in a zip file)"
     ]
    },
    {
     "cell_type": "code",
     "collapsed": false,
     "input": [
      "# svd.compute(k=k, min_values=10, pre_normalize=None, mean_center=True, post_normalize=True, savefile='/tmp/movielens')"
     ],
     "language": "python",
     "metadata": {},
     "outputs": [
      {
       "output_type": "stream",
       "stream": "stdout",
       "text": [
        "Creating matrix (1000209 tuples)\n",
        "Matrix density is: 4.4684%\n"
       ]
      },
      {
       "output_type": "stream",
       "stream": "stdout",
       "text": [
        "Updating matrix: squish to at least 10 values\n",
        "Computing svd k=100, min_values=10, pre_normalize=None, mean_center=True, post_normalize=True\n"
       ]
      },
      {
       "output_type": "stream",
       "stream": "stdout",
       "text": [
        "[WARNING] mean_center is True. svd.similar(...) might return nan's. If so, then do svd.compute(..., mean_center=False)\n",
        "Saving svd model to /tmp/movielens\n"
       ]
      }
     ],
     "prompt_number": 55
    },
    {
     "cell_type": "markdown",
     "metadata": {},
     "source": [
      "Reload a saved model:"
     ]
    },
    {
     "cell_type": "code",
     "collapsed": false,
     "input": [
      "# svd2 = SVD(filename='/tmp/movielens')"
     ],
     "language": "python",
     "metadata": {},
     "outputs": [],
     "prompt_number": 56
    },
    {
     "cell_type": "markdown",
     "metadata": {},
     "source": [
      "Compute similarity between two movies"
     ]
    },
    {
     "cell_type": "code",
     "collapsed": false,
     "input": [
      "movies[movies.Title == \"Toy Story (1995)\"]"
     ],
     "language": "python",
     "metadata": {},
     "outputs": [
      {
       "html": [
        "<div style=\"max-height:1000px;max-width:1500px;overflow:auto;\">\n",
        "<table border=\"1\" class=\"dataframe\">\n",
        "  <thead>\n",
        "    <tr style=\"text-align: right;\">\n",
        "      <th></th>\n",
        "      <th>Title</th>\n",
        "      <th>Genres</th>\n",
        "    </tr>\n",
        "    <tr>\n",
        "      <th>ITEMID</th>\n",
        "      <th></th>\n",
        "      <th></th>\n",
        "    </tr>\n",
        "  </thead>\n",
        "  <tbody>\n",
        "    <tr>\n",
        "      <th>1</th>\n",
        "      <td> Toy Story (1995)</td>\n",
        "      <td> Animation|Children's|Comedy</td>\n",
        "    </tr>\n",
        "  </tbody>\n",
        "</table>\n",
        "<p>1 rows \u00d7 2 columns</p>\n",
        "</div>"
       ],
       "metadata": {},
       "output_type": "pyout",
       "prompt_number": 99,
       "text": [
        "                   Title                       Genres\n",
        "ITEMID                                               \n",
        "1       Toy Story (1995)  Animation|Children's|Comedy\n",
        "\n",
        "[1 rows x 2 columns]"
       ]
      }
     ],
     "prompt_number": 99
    },
    {
     "cell_type": "code",
     "collapsed": false,
     "input": [
      "movies[movies.Title == \"Bug's Life, A (1998)\"]"
     ],
     "language": "python",
     "metadata": {},
     "outputs": [
      {
       "html": [
        "<div style=\"max-height:1000px;max-width:1500px;overflow:auto;\">\n",
        "<table border=\"1\" class=\"dataframe\">\n",
        "  <thead>\n",
        "    <tr style=\"text-align: right;\">\n",
        "      <th></th>\n",
        "      <th>Title</th>\n",
        "      <th>Genres</th>\n",
        "    </tr>\n",
        "    <tr>\n",
        "      <th>ITEMID</th>\n",
        "      <th></th>\n",
        "      <th></th>\n",
        "    </tr>\n",
        "  </thead>\n",
        "  <tbody>\n",
        "    <tr>\n",
        "      <th>2355</th>\n",
        "      <td> Bug's Life, A (1998)</td>\n",
        "      <td> Animation|Children's|Comedy</td>\n",
        "    </tr>\n",
        "  </tbody>\n",
        "</table>\n",
        "<p>1 rows \u00d7 2 columns</p>\n",
        "</div>"
       ],
       "metadata": {},
       "output_type": "pyout",
       "prompt_number": 103,
       "text": [
        "                       Title                       Genres\n",
        "ITEMID                                                   \n",
        "2355    Bug's Life, A (1998)  Animation|Children's|Comedy\n",
        "\n",
        "[1 rows x 2 columns]"
       ]
      }
     ],
     "prompt_number": 103
    },
    {
     "cell_type": "code",
     "collapsed": false,
     "input": [
      "ITEMID1 = 1    # Toy Story (1995)\n",
      "ITEMID2 = 2355 # A bug's life (1998)\n",
      "print svd.similarity(ITEMID1, ITEMID2)\n",
      "# print svd2.similarity(ITEMID1, ITEMID2) to check"
     ],
     "language": "python",
     "metadata": {},
     "outputs": [
      {
       "output_type": "stream",
       "stream": "stdout",
       "text": [
        "0.677069366773\n"
       ]
      }
     ],
     "prompt_number": 5
    },
    {
     "cell_type": "markdown",
     "metadata": {},
     "source": [
      "Get movies similar to Toy Story"
     ]
    },
    {
     "cell_type": "code",
     "collapsed": false,
     "input": [
      "svd.similar(ITEMID1)"
     ],
     "language": "python",
     "metadata": {},
     "outputs": [
      {
       "metadata": {},
       "output_type": "pyout",
       "prompt_number": 6,
       "text": [
        "[(1, 0.99999999999999978),\n",
        " (3114, 0.87060391051017305),\n",
        " (2355, 0.67706936677314977),\n",
        " (588, 0.58073514967544992),\n",
        " (595, 0.46031829709744226),\n",
        " (1907, 0.44589398718134982),\n",
        " (364, 0.42908159895577563),\n",
        " (2081, 0.42566581277822413),\n",
        " (3396, 0.42474056361934953),\n",
        " (2761, 0.40439361857576017)]"
       ]
      }
     ],
     "prompt_number": 6
    },
    {
     "cell_type": "markdown",
     "metadata": {},
     "source": [
      "Predict rating for a given user and movie, $\\hat{r}_{ui}$"
     ]
    },
    {
     "cell_type": "code",
     "collapsed": false,
     "input": [
      "MIN_RATING = 0.0\n",
      "MAX_RATING = 5.0\n",
      "ITEMID = 1\n",
      "USERID = 1\n",
      "svd.predict(ITEMID, USERID, MIN_RATING, MAX_RATING)"
     ],
     "language": "python",
     "metadata": {},
     "outputs": [
      {
       "metadata": {},
       "output_type": "pyout",
       "prompt_number": 7,
       "text": [
        "5.0"
       ]
      }
     ],
     "prompt_number": 7
    },
    {
     "cell_type": "code",
     "collapsed": false,
     "input": [
      "svd.get_matrix().value(ITEMID, USERID)"
     ],
     "language": "python",
     "metadata": {},
     "outputs": [
      {
       "metadata": {},
       "output_type": "pyout",
       "prompt_number": 8,
       "text": [
        "5.0"
       ]
      }
     ],
     "prompt_number": 8
    },
    {
     "cell_type": "markdown",
     "metadata": {},
     "source": [
      "Recommend non rated movies to a user"
     ]
    },
    {
     "cell_type": "code",
     "collapsed": false,
     "input": [
      "svd.recommend(USERID, is_row=False)"
     ],
     "language": "python",
     "metadata": {},
     "outputs": [
      {
       "metadata": {},
       "output_type": "pyout",
       "prompt_number": 9,
       "text": [
        "[(2028, 5.4018452642332546),\n",
        " (527, 5.3498144196809516),\n",
        " (2905, 5.2133848204673132),\n",
        " (318, 5.2052108435955446),\n",
        " (1193, 5.1942189963876562),\n",
        " (3114, 5.1753939214583697),\n",
        " (1, 5.1714259073839521),\n",
        " (2019, 5.1037438278754719),\n",
        " (1178, 5.0962756861446641),\n",
        " (1207, 5.090305272922329)]"
       ]
      }
     ],
     "prompt_number": 9
    },
    {
     "cell_type": "markdown",
     "metadata": {},
     "source": [
      "Which users should see Toy Story? (e.g. which users -that have not rated Toy Story- would give it a high rating?)"
     ]
    },
    {
     "cell_type": "code",
     "collapsed": false,
     "input": [
      "svd.recommend(ITEMID)"
     ],
     "language": "python",
     "metadata": {},
     "outputs": [
      {
       "metadata": {},
       "output_type": "pyout",
       "prompt_number": 10,
       "text": [
        "[(869, 6.8215500393190904),\n",
        " (4086, 6.2667649038936908),\n",
        " (549, 6.2394061595542869),\n",
        " (1343, 6.2163075783431427),\n",
        " (1586, 6.039893928886932),\n",
        " (840, 5.9616632765170472),\n",
        " (1676, 5.896233772781037),\n",
        " (4595, 5.88945710113423),\n",
        " (2691, 5.8735094161364714),\n",
        " (2665, 5.8498694241604259)]"
       ]
      }
     ],
     "prompt_number": 10
    },
    {
     "cell_type": "markdown",
     "metadata": {},
     "source": [
      "Find out more here: [https://github.com/ocelma/python-recsys](https://github.com/ocelma/python-recsys)"
     ]
    }
   ],
   "metadata": {}
  }
 ]
}