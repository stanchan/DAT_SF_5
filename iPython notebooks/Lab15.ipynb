{
 "metadata": {
  "name": ""
 },
 "nbformat": 3,
 "nbformat_minor": 0,
 "worksheets": [
  {
   "cells": [
    {
     "cell_type": "markdown",
     "metadata": {},
     "source": [
      "# GA Data Science 5 (DAT5) - Lab15\n",
      "\n",
      "Francesco Mosconi\n",
      "\n",
      "Chief Data Officer @ Spire Inc."
     ]
    },
    {
     "cell_type": "markdown",
     "metadata": {},
     "source": [
      "## Example: recap text classification"
     ]
    },
    {
     "cell_type": "markdown",
     "metadata": {},
     "source": [
      "```\n",
      "python document_classification_20newsgroups.py\n",
      "\n",
      "```"
     ]
    },
    {
     "cell_type": "markdown",
     "metadata": {},
     "source": [
      "## Exercise 1: Code review"
     ]
    },
    {
     "cell_type": "markdown",
     "metadata": {},
     "source": [
      "Group 1\n",
      "\n",
      "- Leo\n",
      "- Ramzi\n",
      "- Abi\n",
      "- Daniel\n",
      "\n",
      "Group 2\n",
      "\n",
      "- Buddy\n",
      "- Devin\n",
      "- Ning\n",
      "\n",
      "Group 3\n",
      "\n",
      "- Samir\n",
      "- Stan\n",
      "- Mike\n"
     ]
    },
    {
     "cell_type": "markdown",
     "metadata": {},
     "source": [
      "### Group1: lines 1-163\n",
      "\n",
      "### Group2: lines 164-206\n",
      "\n",
      "### Group3: lines 207 - end\n",
      "    "
     ]
    },
    {
     "cell_type": "markdown",
     "metadata": {},
     "source": [
      "### Goals\n",
      "\n",
      "- Understand code (use documentation if unsure)\n",
      "- Add comments, function descriptions\n",
      "- Discuss within group: what could have been done differently? Propose at least 1 change\n",
      "- Present 1 slide to other groups"
     ]
    },
    {
     "cell_type": "markdown",
     "metadata": {},
     "source": [
      "## Exercise 2: DIY"
     ]
    },
    {
     "cell_type": "markdown",
     "metadata": {},
     "source": [
      "1. Choose a dataset among these:\n",
      "\n",
      "[Spam Assassin Public Corpus](http://spamassassin.apache.org/publiccorpus/)\n",
      "\n",
      "[UCI Spambase](https://archive.ics.uci.edu/ml/datasets/Spambase)\n",
      "\n",
      "[Enron Dataset](http://www.aueb.gr/users/ion/data/enron-spam/)\n",
      "\n",
      "[Trec 2007 Public Corpus](http://plg.uwaterloo.ca/cgi-bin/cgiwrap/gvcormac/foo07)\n",
      "\n",
      "[SMS Spam Collection](https://archive.ics.uci.edu/ml/datasets/SMS+Spam+Collection)"
     ]
    },
    {
     "cell_type": "markdown",
     "metadata": {},
     "source": [
      "Additional Resources:\n",
      "\n",
      "http://citeseerx.ist.psu.edu/viewdoc/download;jsessionid=AF97F79223DE6FBEDB4B6C72AD925817?doi=10.1.1.61.5542&rep=rep1&type=pdf\n",
      "\n",
      "http://www.slideshare.net/ogrisel/statistical-machine-learning-for-text-classification-with-scikitlearn-and-nltk\n",
      "\n",
      "http://nbviewer.ipython.org/github/carljv/Will_it_Python/blob/master/MLFH/CH3/ch3_nltk.ipynb"
     ]
    },
    {
     "cell_type": "code",
     "collapsed": false,
     "input": [],
     "language": "python",
     "metadata": {},
     "outputs": []
    }
   ],
   "metadata": {}
  }
 ]
}