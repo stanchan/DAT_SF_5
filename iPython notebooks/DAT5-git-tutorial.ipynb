{
 "metadata": {
  "name": ""
 },
 "nbformat": 3,
 "nbformat_minor": 0,
 "worksheets": [
  {
   "cells": [
    {
     "cell_type": "markdown",
     "metadata": {},
     "source": [
      "# GA Data Science 5 (DAT5) - git overview\n",
      "\n",
      "This lab is an overview and example of `git`."
     ]
    },
    {
     "cell_type": "markdown",
     "metadata": {},
     "source": [
      "### 1. High Level Architecture\n",
      "\n",
      "- the purpose of `git` is to keep snapshots of the *'state of the filesystem'* as it changes over time\n",
      "- git stores these snapshots in a *'repository'*\n",
      "- specifically, `git` data is kept in the `.git` folder in the top-level directory of the repo\n",
      "- i.e. there is a relationship between a `git` repo and the filesystem"
     ]
    },
    {
     "cell_type": "markdown",
     "metadata": {},
     "source": [
      "There are two primary objects that are key to understanding `git`:\n",
      "#### `commit` object:\n",
      "\n",
      "- set of files (and directories) - i.e. a *'snapshot'*\n",
      "- pointer to one or more *parent* commit objects\n",
      "- unique name based on SHA1 hash\n",
      "- meta-data - e.g. commit message\n",
      "\n",
      "#### `head` object:\n",
      "\n",
      "- pointer to a `commit` object\n",
      "- each `head` has a name (i.e. the name of the branch)\n",
      "- at any given time there is a `head` that is the *'current head'*\n",
      "- the *'current head'* has the supplemental alias `HEAD`\n",
      "- by default there is a `head` called ***master*** in every repository"
     ]
    },
    {
     "cell_type": "markdown",
     "metadata": {},
     "source": [
      "A `git` repository has a particular logical structure:\n",
      "\n",
      "- think of each `commit` object as a snapshot of the file system at a point in time\n",
      "- `commit` objects are linked together, forming a *directed graph*\n",
      "- the *'initial commit'* is the root of the graph\n",
      "- `head` objects are just pointers to specific `commits`"
     ]
    },
    {
     "cell_type": "markdown",
     "metadata": {},
     "source": [
      "### 2. git workflow tasks\n",
      "\n",
      "- using `git` is basically just manipulating this graph of `commit` objects\n",
      "- e.g. creating a commit, creating a branch, cloning a repo, merging ..."
     ]
    },
    {
     "cell_type": "markdown",
     "metadata": {},
     "source": [
      "#### What exactly is a `commit`?\n",
      "\n",
      "- creates the `commit` object\n",
      "- `git` automatically adds all files that have not changed since the parent commit\n",
      "- for new or modified files, you need to add them to the `stage` before calling `commit`\n",
      "- the new `commit` will have the current `HEAD` as it's parent, and after the new `commit` is created, the `HEAD` pointer will be shifted to point to the new `commit` object"
     ]
    },
    {
     "cell_type": "markdown",
     "metadata": {},
     "source": [
      "#### What is a `merge`?\n",
      "\n",
      "- basically, it is combining two different snapshots of the filesystem\n",
      "- Note: before you can merge the stage must match the current commit\n",
      "\n",
      "\n",
      "    a. current head\n",
      "    b. branch/commit to be merged  \n",
      "\n",
      "1. identify the most recent common ancestor of a and b\n",
      "\n",
      "    - if b is the common ancestor, do nothing ...\n",
      "    - if a is the common ancestor, do a `fast-forward`\n",
      "    - if neither of these, go to step 2\n",
      "\n",
      "2. determine the changes between the common ancestor and the a and b\n",
      "3. try to merge those changes into a (i.e. the current head)\n",
      "\n",
      "    - if no conflicts, create a new commit with both a and b as parents\n",
      "    - if conflicts - put markers into files and stop merge ...\n",
      "    \n",
      "    \n",
      "If there are conflicts, then the user must resolve them before the merge (i.e. and the associated commit) can complete.\n",
      "\n",
      "    a. edit files to resolve conflicts, and save\n",
      "    b. add them to stage\n",
      "    c. commit"
     ]
    },
    {
     "cell_type": "markdown",
     "metadata": {},
     "source": [
      "### 3. `git` syntax - confusing parts\n",
      "\n",
      "**a. combo commands**\n",
      "\n",
      "- some commands are essentially combinations of other commands executed in sequence\n",
      "- this means there can be several different ways to accomplish the same thing\n",
      "\n",
      "\n",
      "    examples:\n",
      "\n",
      "    git pull = git fetch + git merge\n",
      "\n",
      "    git clone = whole bunch of stuff:\n",
      " \n",
      "    - create a new directory (i.e. with the name of the cloned repo)\n",
      "    - initialize a new git repository in the new directory\n",
      "    - copy all the commit objects and head references into the new repository\n",
      "    - add a remote repository reference named origin that points to the remote\n",
      "    - add remote heads named origin/head-name that correspond to the remote heads\n",
      "    - setup one head in the new repo to track the \n",
      "    "
     ]
    },
    {
     "cell_type": "markdown",
     "metadata": {},
     "source": [
      "**b. optional / default arguments**\n",
      "\n",
      "- some commands have optional parameters that are filled in with default values if not set explicitly\n",
      "- e.g. git pull = git pull origin master"
     ]
    },
    {
     "cell_type": "markdown",
     "metadata": {},
     "source": [
      "**c. references and settings may be 'relative'**\n",
      "\n",
      "- although there are some global settings, many settings and references are relative only to the current repo, or current 'active' HEAD or branch\n",
      "- e.g. remote names, branch names"
     ]
    },
    {
     "cell_type": "markdown",
     "metadata": {},
     "source": [
      "### 4. Settings\n",
      "\n",
      "Many settings are relative to the current repo, but some are set globally:\n",
      "\n",
      "    $ git config global -l\n",
      "    \n",
      "    user.name=Dow Street\n",
      "    user.email=dowstreet@prodigy.net\n",
      "    diff.external=/Users/dowstreet/bin/git-diff-cmd.sh\n",
      "    merge.tool=opendiff\n",
      "    color.ui=true\n",
      "    \n",
      "If you want, you can set your editor to something other than `vi` - e.g. `nano`:\n",
      "\n",
      "    $ git config global"
     ]
    },
    {
     "cell_type": "markdown",
     "metadata": {},
     "source": [
      "### 5. Merge Example"
     ]
    },
    {
     "cell_type": "markdown",
     "metadata": {},
     "source": [
      "#### ***in github...*** \n",
      "\n",
      "Login to your github account and create a new repo called `example`:\n",
      "\n",
      "- include a README.md file\n",
      "- add a .gitignore file\n",
      "\n",
      "Let's look at the `.gitignore` file ...\n",
      "\n",
      "Let's edit the `README.md` file ...\n",
      "\n",
      "    Add the line 'ver. 0.1'\n",
      "    \n",
      "Commit the change ...\n",
      "\n",
      "*Note: notice that this is 'commit', not 'save'.*\n",
      "\n",
      "Click history - notice there are now two commits.\n",
      "\n",
      "CLick network - notice the commits graph."
     ]
    },
    {
     "cell_type": "markdown",
     "metadata": {},
     "source": [
      "\n",
      "#### ***in your terminal...*** \n",
      "\n",
      "Copy the clone link from github:\n",
      "\n",
      "    $ git clone <clone link>\n",
      "    \n",
      "Change into the new directory:\n",
      "\n",
      "    $ ls -a\n",
      "    \n",
      "Notice the `.git` directory\n",
      "\n",
      "    $ git remote -v\n",
      "    \n",
      "Notice that the clone created two remote repository references"
     ]
    },
    {
     "cell_type": "markdown",
     "metadata": {},
     "source": [
      "#### Case 1 - single edit in local (only)\n",
      "\n",
      "i.e. `b` is the common ancestor\n",
      "    \n",
      "*** in your terminal...***\n",
      "\n",
      "Edit the README.md\n",
      "\n",
      "    $ nano README.md\n",
      "    \n",
      "    $ git pull\n",
      "    \n",
      "Should be *'already up to date'*\n",
      "\n",
      "Can push back to origin:\n",
      "\n",
      "    $ git push origin master\n",
      "\n",
      "*** in github...***\n",
      "\n",
      "- Check the file history\n",
      "- Check at the network"
     ]
    },
    {
     "cell_type": "markdown",
     "metadata": {},
     "source": [
      "#### Case 2 - single edit in origin (only)\n",
      "\n",
      "***in github...*** \n",
      "\n",
      "Edit the README:\n",
      "\n",
      "    Change the line to 'ver. 0.2'\n",
      "    \n",
      "- Check the network\n",
      "- Check the history\n",
      "  "
     ]
    },
    {
     "cell_type": "markdown",
     "metadata": {},
     "source": [
      "  \n",
      "*** in your terminal...***\n",
      "\n",
      "    $ git pull\n",
      "    \n",
      "Should be *'fast-forward'*"
     ]
    },
    {
     "cell_type": "markdown",
     "metadata": {},
     "source": [
      "#### Case 3 - edits in both, but different files\n",
      "\n",
      "***in github...*** \n",
      "\n",
      "Create a new file README_2.md\n",
      "\n",
      "Add the line:\n",
      "\n",
      "    ver. 0.1\n",
      "\n",
      "Commit\n",
      "\n",
      "\n",
      "***in your terminal...***\n",
      "\n",
      "Create a new file README_3.md\n",
      "\n",
      "    $ nano README_3.md\n",
      "    \n",
      "Add the line:\n",
      "\n",
      "    ver. 0.1\n",
      "    \n",
      "- Save the file.\n",
      "- Add the file to stage.\n",
      "- Commit.\n",
      "\n",
      "Check the log in your terminal vs. the log in github\n",
      "\n",
      "*Now we want to pull:*\n",
      "\n",
      "    $ git pull\n",
      "\n",
      "    remote: Counting objects: 4, done.\n",
      "    remote: Compressing objects: 100% (2/2), done.\n",
      "    remote: Total 3 (delta 0), reused 0 (delta 0)\n",
      "    Unpacking objects: 100% (3/3), done.\n",
      "    From https://github.com/dowstreet/example\n",
      "       bd8bb9d..a58e113  master     -> origin/master\n",
      "    Merge made by the 'recursive' strategy.\n",
      "    README_3.md | 1 +\n",
      "    1 file changed, 1 insertion(+)\n",
      "    create mode 100644 README_3.md\n",
      "\n",
      "    $ git push\n"
     ]
    },
    {
     "cell_type": "markdown",
     "metadata": {},
     "source": [
      "#### Case 4: Edits in both places, same file(s) = merge conflict!\n",
      "\n",
      "***in github...***\n",
      "\n",
      "Edit README.md\n",
      "\n",
      "- Commit\n",
      "\n",
      "***in your terminal...***\n",
      "\n",
      "Edit README.md\n",
      "\n",
      "- Save, add, commit.\n",
      "\n",
      "*Now we want to merge*\n",
      "\n",
      "    $ git pull\n",
      "    \n",
      "    From https://github.com/dowstreet/example\n",
      "    be83519..23e7bb3  master     -> origin/master\n",
      "    Auto-merging README.md\n",
      "    CONFLICT (content): Merge conflict in README.md\n",
      "    Automatic merge failed; fix conflicts and then commit the result.\n",
      "\n",
      "    $ git status\n",
      "    \n",
      "    # You have unmerged paths.\n",
      "    #   (fix conflicts and run \"git commit\")\n",
      "    #\n",
      "    # Unmerged paths:\n",
      "    #   (use \"git add <file>...\" to mark resolution)\n",
      "    #\n",
      "    #\tboth modified:      README.md\n",
      "\n",
      "Need to resolve the conflict!:\n",
      "\n",
      "    a. edit the file manually\n",
      "    \n",
      "    b. use git mergetool\n",
      "\n",
      "\n",
      "\n",
      "\n",
      "Merging commands:\n",
      "\n",
      "    $ git mergetool --tool-help\n",
      "\n",
      "    $ git config --global merge.tool opendiff\n"
     ]
    },
    {
     "cell_type": "markdown",
     "metadata": {},
     "source": [
      "### General Workflow Tips\n",
      "\n",
      "a. commit before switching branches  \n",
      "b. commit before attempting a `merge` (including `pull`)  \n",
      "c. `pull` (i.e. merge) before `push` if using a central repo"
     ]
    },
    {
     "cell_type": "markdown",
     "metadata": {},
     "source": [
      "### Strategies for Our Workflow\n",
      "\n",
      "- want to be able to pull new content from `instructor` remote\n",
      "- what about local changes to files we previously pulled?\n",
      "\n",
      "**Options:**\n",
      "\n",
      "a. merge local changes with changes on `instructor`  \n",
      "b. use different file name locally - e.g. rename after pull  \n",
      "c. keep all local changes (i.e. ignore updates on `instructor` for existing files`\n",
      "\n",
      "\n",
      "    $ git fetch\n",
      "    \n",
      "    $ git merge -s ours instructor/master master"
     ]
    },
    {
     "cell_type": "markdown",
     "metadata": {},
     "source": [
      "### Other useful commands:\n",
      "\n",
      "    Use this all the time!\n",
      "\n",
      "    $ git status\n",
      "    \n",
      "    Show the commit and branch graph\n",
      "    \n",
      "    $ git log --graph --oneline --all\n",
      "    \n",
      "    Clear (i.e. remove) untracked files:\n",
      "    \n",
      "    $ git clean -n  (checks what will be removed)\n",
      "    $ git clean -f  (actually remove files!)"
     ]
    },
    {
     "cell_type": "markdown",
     "metadata": {},
     "source": [
      "### More stuff:\n",
      "\n",
      "    $ git checkout <SHA1>\n",
      "    \n",
      "    Note: checking out 'd221d59'.\n",
      "\n",
      "    You are in 'detached HEAD' state. You can look around, make experimental\n",
      "    changes and commit them, and you can discard any commits you make in this\n",
      "    state without impacting any branches by performing another checkout.\n",
      "\n",
      "    If you want to create a new branch to retain commits you create, you may\n",
      "    do so (now or later) by using -b with the checkout command again. Example:\n",
      "\n",
      "    git checkout -b new_branch_name\n",
      "\n",
      "    HEAD is now at d221d59... Update README.md\n",
      "\n",
      "Look at README.md - notice that this is an old version...\n",
      "\n",
      "    $ nano README.md\n",
      "\n",
      "What do the branches and current head look like:\n",
      "\n",
      "    $ git branch -v\n",
      "\n",
      "We can switch back to our most recent branch master:\n",
      "\n",
      "    $ git checkout master\n"
     ]
    },
    {
     "cell_type": "markdown",
     "metadata": {},
     "source": [
      "### References:\n",
      "\n",
      "[sqlite3 home](http://www.sqlite.org)  \n",
      "[SQLite - Python tutorial](http://sebastianraschka.com/Articles/2014_sqlite_in_python_tutorial.html)  \n",
      "[SQLAlchemy home](http://www.sqlalchemy.org)  \n",
      "[MongoDB home](http://www.mongodb.org/)"
     ]
    },
    {
     "cell_type": "markdown",
     "metadata": {},
     "source": []
    }
   ],
   "metadata": {}
  }
 ]
}