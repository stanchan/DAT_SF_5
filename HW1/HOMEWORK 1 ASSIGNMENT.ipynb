{
 "metadata": {
  "name": ""
 },
 "nbformat": 3,
 "nbformat_minor": 0,
 "worksheets": [
  {
   "cells": [
    {
     "cell_type": "code",
     "collapsed": false,
     "input": [
      "# Load the data and any required libraries\n",
      "import numpy as np\n",
      "import pandas as pd\n",
      "tt = pd.read_csv(\"titanic-train.csv\")"
     ],
     "language": "python",
     "metadata": {},
     "outputs": [],
     "prompt_number": 483
    },
    {
     "cell_type": "markdown",
     "metadata": {},
     "source": [
      "How many passengers are in our passenger list? From here forward, we\u2019ll assume our dataset represents the full passenger list for the Titanic."
     ]
    },
    {
     "cell_type": "code",
     "collapsed": false,
     "input": [
      "# Count all passangers by PassengerId... PassengerId is PrimaryKey\n",
      "sum_all = int(tt['PassengerId'].count())\n",
      "print(\"Total passangers is {0}.\".format(sum_all))"
     ],
     "language": "python",
     "metadata": {},
     "outputs": [
      {
       "output_type": "stream",
       "stream": "stdout",
       "text": [
        "Total passangers is 891.\n"
       ]
      }
     ],
     "prompt_number": 484
    },
    {
     "cell_type": "markdown",
     "metadata": {},
     "source": [
      "What is the overall survival rate?"
     ]
    },
    {
     "cell_type": "code",
     "collapsed": false,
     "input": [
      "df = tt['Survived']\n",
      "total_survivors = np.count_nonzero(df)\n",
      "#print(float(np.count_nonzero(total_survivors)))\n",
      "survivors_rate = float(total_survivors)/sum_all*100\n",
      "print(\"Passenger survival rate is {0:f}%.\".format(survivors_rate))"
     ],
     "language": "python",
     "metadata": {},
     "outputs": [
      {
       "output_type": "stream",
       "stream": "stdout",
       "text": [
        "Passenger survival rate is 38.383838%.\n"
       ]
      }
     ],
     "prompt_number": 485
    },
    {
     "cell_type": "markdown",
     "metadata": {},
     "source": [
      "How many male passengers were onboard?"
     ]
    },
    {
     "cell_type": "code",
     "collapsed": false,
     "input": [
      "df = tt[tt.Sex == 'male']\n",
      "total_male = df['PassengerId'].count()\n",
      "#pattern = r'male'\n",
      "#sex = tt['Sex'].str.match(pattern)\n",
      "#np.count_nonzero(sex)\n",
      "print(\"Total male passengers is {0:d}.\".format(total_male))"
     ],
     "language": "python",
     "metadata": {},
     "outputs": [
      {
       "output_type": "stream",
       "stream": "stdout",
       "text": [
        "Total male passengers is 577.\n"
       ]
      }
     ],
     "prompt_number": 487
    },
    {
     "cell_type": "markdown",
     "metadata": {},
     "source": [
      "How many female passengers were onboard?"
     ]
    },
    {
     "cell_type": "code",
     "collapsed": false,
     "input": [
      "df = tt[tt.Sex == 'female']\n",
      "total_female = df['PassengerId'].count()\n",
      "print(\"Total female passengers is {0:d}.\".format(total_female))"
     ],
     "language": "python",
     "metadata": {},
     "outputs": [
      {
       "output_type": "stream",
       "stream": "stdout",
       "text": [
        "Total female passengers is 314.\n"
       ]
      }
     ],
     "prompt_number": 488
    },
    {
     "cell_type": "markdown",
     "metadata": {},
     "source": [
      "What is the overall survival rate of male passengers?"
     ]
    },
    {
     "cell_type": "code",
     "collapsed": false,
     "input": [
      "df = tt[(tt.Survived == 1) & (tt.Sex == 'male')]\n",
      "male_survivors = df['PassengerId'].count()\n",
      "male_survivors_rate = float(male_survivors)/total_male*100\n",
      "print(\"Male survival rate is {0:f}%.\".format(male_survivors_rate))"
     ],
     "language": "python",
     "metadata": {},
     "outputs": [
      {
       "output_type": "stream",
       "stream": "stdout",
       "text": [
        "Male survival rate is 18.890815%.\n"
       ]
      }
     ],
     "prompt_number": 489
    },
    {
     "cell_type": "markdown",
     "metadata": {},
     "source": [
      "What is the overall survival rate of female passengers?"
     ]
    },
    {
     "cell_type": "code",
     "collapsed": false,
     "input": [
      "df = tt[(tt.Survived == 1) & (tt.Sex == 'female')]\n",
      "female_survivors = df['PassengerId'].count()\n",
      "female_survivors_rate = float(female_survivors)/total_female*100\n",
      "print(\"Female survival rate is {0:f}%.\".format(female_survivors_rate))"
     ],
     "language": "python",
     "metadata": {},
     "outputs": [
      {
       "output_type": "stream",
       "stream": "stdout",
       "text": [
        "Female survival rate is 74.203822%.\n"
       ]
      }
     ],
     "prompt_number": 490
    },
    {
     "cell_type": "markdown",
     "metadata": {},
     "source": [
      "What is the average age of all passengers onboard?\n",
      "\n",
      "a. How did you calculate this average age?\n",
      "b. Did you encounter any problems with this calculation?\n",
      "c. If so, how did you address any problems?\n",
      "\n",
      "Filled NaN values with average based on gender."
     ]
    },
    {
     "cell_type": "code",
     "collapsed": false,
     "input": [
      "df = tt[(tt.Age.notnull()) & (tt.Sex == 'female')]\n",
      "total_female_age = df['PassengerId'].count()\n",
      "sum_female_age = df['Age'].sum()\n",
      "average_female = sum_female_age/total_female_age\n",
      "average_female = float(\"{0:.2f}\".format(average_female))\n",
      "print(\"Average of known female ages in sample is {0}.\".format(average_female))"
     ],
     "language": "python",
     "metadata": {},
     "outputs": [
      {
       "output_type": "stream",
       "stream": "stdout",
       "text": [
        "Average of known female ages in sample is 27.92.\n"
       ]
      }
     ],
     "prompt_number": 491
    },
    {
     "cell_type": "code",
     "collapsed": false,
     "input": [
      "df = tt[(tt.Age.notnull()) & (tt.Sex == 'male')]\n",
      "total_male_age = df['PassengerId'].count()\n",
      "sum_male_age = df['Age'].sum()\n",
      "average_male = sum_male_age/total_male_age\n",
      "average_male = float(\"{0:.2f}\".format(average_male))\n",
      "print(\"Average of known male ages in sample is {0}.\".format(average_male))"
     ],
     "language": "python",
     "metadata": {},
     "outputs": [
      {
       "output_type": "stream",
       "stream": "stdout",
       "text": [
        "Average of known male ages in sample is 30.73.\n"
       ]
      }
     ],
     "prompt_number": 492
    },
    {
     "cell_type": "code",
     "collapsed": false,
     "input": [
      "df = tt[tt.Age.notnull()]\n",
      "total_actual_age = df['PassengerId'].count()\n",
      "sum_actual_age = df['Age'].sum()\n",
      "average_actual_age = sum_actual_age/total_actual_age\n",
      "average_actual_age = float(\"{0:.2f}\".format(average_actual_age))\n",
      "print(\"Average of known ages in sample is {0}.\".format(average_actual_age))"
     ],
     "language": "python",
     "metadata": {},
     "outputs": [
      {
       "output_type": "stream",
       "stream": "stdout",
       "text": [
        "Average of known ages in sample is 29.7.\n"
       ]
      }
     ],
     "prompt_number": 493
    },
    {
     "cell_type": "code",
     "collapsed": false,
     "input": [
      "null_female_df = tt[(tt.Age.isnull()) & (tt.Sex == 'female')]\n",
      "null_female_df = null_female_df.fillna(average_female)\n",
      "null_male_df = tt[(tt.Age.isnull()) & (tt.Sex == 'male')]\n",
      "null_male_df = null_male_df.fillna(average_male)\n",
      "combined_df = [tt[tt.Age.notnull()], null_female_df, null_male_df]\n",
      "combined_df = pd.concat(combined_df)\n",
      "combined_df.sort()\n",
      "sum_total_age = combined_df['Age'].sum()\n",
      "average_total_age = sum_total_age/sum_all\n",
      "average_total_age = float(\"{0:.2f}\".format(average_total_age))\n",
      "print(\"Average of all ages in sample is {0}.\".format(average_total_age))"
     ],
     "language": "python",
     "metadata": {},
     "outputs": [
      {
       "output_type": "stream",
       "stream": "stdout",
       "text": [
        "Average of all ages in sample is 29.74\n"
       ]
      }
     ],
     "prompt_number": 453
    },
    {
     "cell_type": "markdown",
     "metadata": {},
     "source": [
      "What is the average age of passengers who survived?"
     ]
    },
    {
     "cell_type": "code",
     "collapsed": false,
     "input": [
      "df = combined_df[combined_df.Survived == 1]\n",
      "total_survived_age = df['PassengerId'].count()\n",
      "sum_survived_age = df['Age'].sum()\n",
      "average_survived_age = sum_survived_age/total_survived_age\n",
      "average_survived_age = float(\"{0:.2f}\".format(average_survived_age))\n",
      "print(\"Average of ages who survived in sample is {0}.\".format(average_survived_age))"
     ],
     "language": "python",
     "metadata": {},
     "outputs": [
      {
       "output_type": "stream",
       "stream": "stdout",
       "text": [
        "Average of ages who survived in sample is 28.41.\n"
       ]
      }
     ],
     "prompt_number": 494
    },
    {
     "cell_type": "markdown",
     "metadata": {},
     "source": [
      "What is the average age of passengers who did not survive?"
     ]
    },
    {
     "cell_type": "code",
     "collapsed": false,
     "input": [
      "df = combined_df[combined_df.Survived == 0]\n",
      "total_notsurvived_age = df['PassengerId'].count()\n",
      "sum_notsurvived_age = df['Age'].sum()\n",
      "average_notsurvived_age = sum_notsurvived_age/total_notsurvived_age\n",
      "average_notsurvived_age = float(\"{0:.2f}\".format(average_notsurvived_age))\n",
      "print(\"Average of ages who did not survive in sample is {0}.\".format(average_notsurvived_age))"
     ],
     "language": "python",
     "metadata": {},
     "outputs": [
      {
       "output_type": "stream",
       "stream": "stdout",
       "text": [
        "Average of ages who did not survive in sample is 30.56.\n"
       ]
      }
     ],
     "prompt_number": 495
    },
    {
     "cell_type": "markdown",
     "metadata": {},
     "source": [
      "At this (early) point in our analysis, what might you infer about any patterns\n",
      "you are seeing?\n",
      "\n",
      "Your survival rate is higher if you were a female passenger in your late 20s.  There were higher ratio of males to females on the voyage."
     ]
    },
    {
     "cell_type": "markdown",
     "metadata": {},
     "source": [
      "How many passengers are in each of the three classes of service (e.g. First,\n",
      "Second, Third?)"
     ]
    },
    {
     "cell_type": "code",
     "collapsed": false,
     "input": [
      "def create_ref(df, pclass=1):\n",
      "    df = df[df.Pclass == pclass]\n",
      "    return df\n",
      "\n",
      "pclass1_df = create_ref(combined_df, 1)\n",
      "pclass2_df = create_ref(combined_df, 2)\n",
      "pclass3_df = create_ref(combined_df, 3)\n",
      "total_pclass1 = pclass1_df.PassengerId.count()\n",
      "total_pclass2 = pclass2_df.PassengerId.count()\n",
      "total_pclass3 = pclass3_df.PassengerId.count()\n",
      "print(\"Total passengers in First Class is {0}.\".format(total_pclass1))\n",
      "print(\"Total passengers in Second Class is {0}.\".format(total_pclass2))\n",
      "print(\"Total passengers in Third Class is {0}.\".format(total_pclass3))"
     ],
     "language": "python",
     "metadata": {},
     "outputs": [
      {
       "output_type": "stream",
       "stream": "stdout",
       "text": [
        "Total passengers in First Class is 216.\n",
        "Total passengers in Second Class is 184.\n",
        "Total passengers in Third Class is 491.\n"
       ]
      }
     ],
     "prompt_number": 499
    },
    {
     "cell_type": "markdown",
     "metadata": {},
     "source": [
      "What is the survival rate for passengers in each of the three classes of service?"
     ]
    },
    {
     "cell_type": "code",
     "collapsed": false,
     "input": [
      "df = pclass1_df[pclass1_df.Survived == 1]\n",
      "pclass1_survivors = df['PassengerId'].count()\n",
      "pclass1_survivors_rate = float(pclass1_survivors)/total_pclass1*100\n",
      "print(\"First Class survival rate is {0:f}%.\".format(pclass1_survivors_rate))\n",
      "df = pclass2_df[pclass2_df.Survived == 1]\n",
      "pclass2_survivors = df['PassengerId'].count()\n",
      "pclass2_survivors_rate = float(pclass2_survivors)/total_pclass2*100\n",
      "print(\"Second Class survival rate is {0:f}%.\".format(pclass2_survivors_rate))\n",
      "df = pclass3_df[pclass3_df.Survived == 1]\n",
      "pclass3_survivors = df['PassengerId'].count()\n",
      "pclass3_survivors_rate = float(pclass3_survivors)/total_pclass3*100\n",
      "print(\"Third Class survival rate is {0:f}%.\".format(pclass3_survivors_rate))"
     ],
     "language": "python",
     "metadata": {},
     "outputs": [
      {
       "output_type": "stream",
       "stream": "stdout",
       "text": [
        "First Class survival rate is 62.962963%.\n",
        "Second Class survival rate is 47.282609%.\n",
        "Third Class survival rate is 24.236253%.\n"
       ]
      }
     ],
     "prompt_number": 500
    },
    {
     "cell_type": "markdown",
     "metadata": {},
     "source": [
      "Continuing with 10, what else might you conclude?\n",
      "The higher your class, the higher your survival rate.  First class passengers have more then double the chance of surviving compared to Third class passengers."
     ]
    },
    {
     "cell_type": "markdown",
     "metadata": {},
     "source": [
      "Last, if we were to build a predictive model, which features in the data do you\n",
      "think we should include in the model and which can we leave out? Why?\n",
      "\n",
      "Class and gender because they are the biggest facter in determining your survival."
     ]
    }
   ],
   "metadata": {}
  }
 ]
}