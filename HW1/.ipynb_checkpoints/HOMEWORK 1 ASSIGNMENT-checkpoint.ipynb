{
 "metadata": {
  "name": ""
 },
 "nbformat": 3,
 "nbformat_minor": 0,
 "worksheets": [
  {
   "cells": [
    {
     "cell_type": "code",
     "collapsed": false,
     "input": [
      "# Load the data and any required libraries\n",
      "import numpy as np\n",
      "import pandas as pd\n",
      "tt = pd.read_csv(\"titanic-train.csv\")\n",
      "tt.info()"
     ],
     "language": "python",
     "metadata": {},
     "outputs": [
      {
       "output_type": "stream",
       "stream": "stdout",
       "text": [
        "<class 'pandas.core.frame.DataFrame'>\n",
        "Int64Index: 891 entries, 0 to 890\n",
        "Data columns (total 12 columns):\n",
        "PassengerId    891 non-null int64\n",
        "Survived       891 non-null int64\n",
        "Pclass         891 non-null int64\n",
        "Name           891 non-null object\n",
        "Sex            891 non-null object\n",
        "Age            714 non-null float64\n",
        "SibSp          891 non-null int64\n",
        "Parch          891 non-null int64\n",
        "Ticket         891 non-null object\n",
        "Fare           891 non-null float64\n",
        "Cabin          204 non-null object\n",
        "Embarked       889 non-null object\n",
        "dtypes: float64(2), int64(5), object(5)"
       ]
      }
     ],
     "prompt_number": 70
    },
    {
     "cell_type": "markdown",
     "metadata": {},
     "source": [
      "How many passengers are in our passenger list? From here forward, we\u2019ll assume our dataset represents the full passenger list for the Titanic."
     ]
    },
    {
     "cell_type": "code",
     "collapsed": false,
     "input": [
      "# Count all passangers by PassengerId... PassengerId is PrimaryKey\n",
      "sum_all = tt.PassengerId.count()\n",
      "print(\"Total passangers is {0:d}.\".format(sum_all))"
     ],
     "language": "python",
     "metadata": {},
     "outputs": [
      {
       "output_type": "stream",
       "stream": "stdout",
       "text": [
        "Total passangers is 891.\n"
       ]
      }
     ],
     "prompt_number": 87
    },
    {
     "cell_type": "markdown",
     "metadata": {},
     "source": [
      "What is the overall survival rate?"
     ]
    },
    {
     "cell_type": "code",
     "collapsed": false,
     "input": [
      "survivors_rate = tt.Survived.values.mean()*100\n",
      "#df = tt[tt['Survived']]\n",
      "#total_survivors = np.count_nonzero(df)\n",
      "#print(float(np.count_nonzero(total_survivors)))\n",
      "#survivors_rate = float(total_survivors)/sum_all*100\n",
      "print(\"Passenger survival rate is {0:.1f}%.\".format(survivors_rate))"
     ],
     "language": "python",
     "metadata": {},
     "outputs": [
      {
       "output_type": "stream",
       "stream": "stdout",
       "text": [
        "Passenger survival rate is 38.4%.\n"
       ]
      }
     ],
     "prompt_number": 85
    },
    {
     "cell_type": "markdown",
     "metadata": {},
     "source": [
      "How many male passengers were onboard?"
     ]
    },
    {
     "cell_type": "code",
     "collapsed": false,
     "input": [
      "total_male = tt[tt.Sex == 'male'].Sex.count()\n",
      "#total_male = df['PassengerId'].count()\n",
      "#pattern = r'male'\n",
      "#sex = tt['Sex'].str.match(pattern)\n",
      "#np.count_nonzero(sex)\n",
      "print(\"Total male passengers is {0:d}.\".format(total_male))"
     ],
     "language": "python",
     "metadata": {},
     "outputs": [
      {
       "output_type": "stream",
       "stream": "stdout",
       "text": [
        "Total male passengers is 577.\n"
       ]
      }
     ],
     "prompt_number": 84
    },
    {
     "cell_type": "markdown",
     "metadata": {},
     "source": [
      "How many female passengers were onboard?"
     ]
    },
    {
     "cell_type": "code",
     "collapsed": false,
     "input": [
      "total_female = tt[tt.Sex == 'female'].Sex.count()\n",
      "print(\"Total female passengers is {0:d}.\".format(total_female))"
     ],
     "language": "python",
     "metadata": {},
     "outputs": [
      {
       "output_type": "stream",
       "stream": "stdout",
       "text": [
        "Total female passengers is 314.\n"
       ]
      }
     ],
     "prompt_number": 115
    },
    {
     "cell_type": "markdown",
     "metadata": {},
     "source": [
      "What is the overall survival rate of male passengers?"
     ]
    },
    {
     "cell_type": "code",
     "collapsed": false,
     "input": [
      "data = tt[(tt.Survived == 1) & (tt.Sex == 'male')].PassengerId.count()\n",
      "male_survivors_rate = float(data)/total_male*100\n",
      "print(\"Male survival rate is {0:f}%.\".format(male_survivors_rate))"
     ],
     "language": "python",
     "metadata": {},
     "outputs": [
      {
       "output_type": "stream",
       "stream": "stdout",
       "text": [
        "Male survival rate is 18.890815%.\n"
       ]
      }
     ],
     "prompt_number": 126
    },
    {
     "cell_type": "markdown",
     "metadata": {},
     "source": [
      "What is the overall survival rate of female passengers?"
     ]
    },
    {
     "cell_type": "code",
     "collapsed": false,
     "input": [
      "data = tt[(tt.Survived == 1) & (tt.Sex == 'female')].PassengerId.count()\n",
      "female_survivors_rate = float(data)/total_female*100\n",
      "print(\"Female survival rate is {0:f}%.\".format(female_survivors_rate))"
     ],
     "language": "python",
     "metadata": {},
     "outputs": [
      {
       "output_type": "stream",
       "stream": "stdout",
       "text": [
        "Female survival rate is 74.203822%.\n"
       ]
      }
     ],
     "prompt_number": 127
    },
    {
     "cell_type": "markdown",
     "metadata": {},
     "source": [
      "What is the average age of all passengers onboard?\n",
      "\n",
      "a. How did you calculate this average age?\n",
      "b. Did you encounter any problems with this calculation?\n",
      "c. If so, how did you address any problems?\n",
      "\n",
      "Filled NaN values with average based on gender."
     ]
    },
    {
     "cell_type": "code",
     "collapsed": false,
     "input": [
      "#average_female = tt[(tt.Age.notnull()) & (tt.Sex == 'female')].Age.mean()\n",
      "#print(\"Average of known female ages in sample is {0:.2f}.\".format(average_female))\n",
      "#average_male = tt[(tt.Age.notnull()) & (tt.Sex == 'male')].Age.mean()\n",
      "#print(\"Average of known male ages in sample is {0:.2f}.\".format(average_male))\n",
      "#null_female_df = tt[(tt.Age.isnull()) & (tt.Sex == 'female')]\n",
      "#null_female_df = null_female_df.fillna(average_female)\n",
      "#null_male_df = tt[(tt.Age.isnull()) & (tt.Sex == 'male')]\n",
      "#null_male_df = null_male_df.fillna(average_male)\n",
      "#combined_df = [tt[tt.Age.notnull()], null_female_df, null_male_df]\n",
      "#combined_df = pd.concat(combined_df)\n",
      "#combined_df.sort()\n",
      "#average_total_age = combined_df.Age.mean()\n",
      "#print(\"Average of all ages in sample is {0:.2f}.\".format(average_total_age))"
     ],
     "language": "python",
     "metadata": {},
     "outputs": [],
     "prompt_number": 149
    },
    {
     "cell_type": "code",
     "collapsed": false,
     "input": [
      "average_known_age = tt[tt.Age.notnull()].Age.mean()\n",
      "print(\"Average of known ages in sample is {0:.2f}.\".format(average_known_age))"
     ],
     "language": "python",
     "metadata": {},
     "outputs": [
      {
       "output_type": "stream",
       "stream": "stdout",
       "text": [
        "Average of known ages in sample is 29.70.\n"
       ]
      }
     ],
     "prompt_number": 150
    },
    {
     "cell_type": "markdown",
     "metadata": {},
     "source": [
      "What is the average age of passengers who survived?"
     ]
    },
    {
     "cell_type": "code",
     "collapsed": false,
     "input": [
      "average_survived_age = tt[tt.Survived == 1].Age.mean()\n",
      "print(\"Average of ages who survived in sample is {0:.2f}.\".format(average_survived_age))"
     ],
     "language": "python",
     "metadata": {},
     "outputs": [
      {
       "output_type": "stream",
       "stream": "stdout",
       "text": [
        "Average of ages who survived in sample is 28.34.\n"
       ]
      }
     ],
     "prompt_number": 151
    },
    {
     "cell_type": "markdown",
     "metadata": {},
     "source": [
      "What is the average age of passengers who did not survive?"
     ]
    },
    {
     "cell_type": "code",
     "collapsed": false,
     "input": [
      "average_notsurvived_age = combined_df[combined_df.Survived == 0].Age.mean()\n",
      "print(\"Average of ages who did not survive in sample is {0:.2f}.\".format(average_notsurvived_age))"
     ],
     "language": "python",
     "metadata": {},
     "outputs": [
      {
       "output_type": "stream",
       "stream": "stdout",
       "text": [
        "Average of ages who did not survive in sample is 30.56.\n"
       ]
      }
     ],
     "prompt_number": 154
    },
    {
     "cell_type": "markdown",
     "metadata": {},
     "source": [
      "At this (early) point in our analysis, what might you infer about any patterns\n",
      "you are seeing?\n",
      "\n",
      "Your survival rate is higher if you were a female passenger in your late 20s.  There were higher ratio of males to females on the voyage."
     ]
    },
    {
     "cell_type": "markdown",
     "metadata": {},
     "source": [
      "How many passengers are in each of the three classes of service (e.g. First,\n",
      "Second, Third?)"
     ]
    },
    {
     "cell_type": "code",
     "collapsed": false,
     "input": [
      "def create_ref(df, pclass=1):\n",
      "    df = df[df.Pclass == pclass]\n",
      "    return df\n",
      "\n",
      "pclass1_df = create_ref(combined_df, 1)\n",
      "pclass2_df = create_ref(combined_df, 2)\n",
      "pclass3_df = create_ref(combined_df, 3)\n",
      "total_pclass1 = pclass1_df.PassengerId.count()\n",
      "total_pclass2 = pclass2_df.PassengerId.count()\n",
      "total_pclass3 = pclass3_df.PassengerId.count()\n",
      "print(\"Total passengers in First Class is {0}.\".format(total_pclass1))\n",
      "print(\"Total passengers in Second Class is {0}.\".format(total_pclass2))\n",
      "print(\"Total passengers in Third Class is {0}.\".format(total_pclass3))"
     ],
     "language": "python",
     "metadata": {},
     "outputs": [
      {
       "output_type": "stream",
       "stream": "stdout",
       "text": [
        "Total passengers in First Class is 216.\n",
        "Total passengers in Second Class is 184.\n",
        "Total passengers in Third Class is 491.\n"
       ]
      }
     ],
     "prompt_number": 18
    },
    {
     "cell_type": "markdown",
     "metadata": {},
     "source": [
      "What is the survival rate for passengers in each of the three classes of service?"
     ]
    },
    {
     "cell_type": "code",
     "collapsed": false,
     "input": [
      "df = pclass1_df[pclass1_df.Survived == 1]\n",
      "pclass1_survivors = df['PassengerId'].count()\n",
      "pclass1_survivors_rate = float(pclass1_survivors)/total_pclass1*100\n",
      "print(\"First Class survival rate is {0:f}%.\".format(pclass1_survivors_rate))\n",
      "df = pclass2_df[pclass2_df.Survived == 1]\n",
      "pclass2_survivors = df['PassengerId'].count()\n",
      "pclass2_survivors_rate = float(pclass2_survivors)/total_pclass2*100\n",
      "print(\"Second Class survival rate is {0:f}%.\".format(pclass2_survivors_rate))\n",
      "df = pclass3_df[pclass3_df.Survived == 1]\n",
      "pclass3_survivors = df['PassengerId'].count()\n",
      "pclass3_survivors_rate = float(pclass3_survivors)/total_pclass3*100\n",
      "print(\"Third Class survival rate is {0:f}%.\".format(pclass3_survivors_rate))"
     ],
     "language": "python",
     "metadata": {},
     "outputs": [
      {
       "output_type": "stream",
       "stream": "stdout",
       "text": [
        "First Class survival rate is 62.962963%.\n",
        "Second Class survival rate is 47.282609%.\n",
        "Third Class survival rate is 24.236253%.\n"
       ]
      }
     ],
     "prompt_number": 19
    },
    {
     "cell_type": "markdown",
     "metadata": {},
     "source": [
      "Continuing with 10, what else might you conclude?\n",
      "The higher your class, the higher your survival rate.  First class passengers have more then double the chance of surviving compared to Third class passengers."
     ]
    },
    {
     "cell_type": "markdown",
     "metadata": {},
     "source": [
      "Last, if we were to build a predictive model, which features in the data do you\n",
      "think we should include in the model and which can we leave out? Why?\n",
      "\n",
      "Class and gender because they are the biggest facter in determining your survival."
     ]
    }
   ],
   "metadata": {}
  }
 ]
}